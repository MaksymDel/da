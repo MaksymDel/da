{
 "cells": [
  {
   "cell_type": "code",
   "execution_count": 1,
   "metadata": {},
   "outputs": [],
   "source": [
    "import os\n",
    "from os.path import basename, dirname\n",
    "from shutil import copyfile\n",
    "\n",
    "import json\n",
    "import pickle\n",
    "from collections import OrderedDict\n",
    "\n",
    "import torch"
   ]
  },
  {
   "cell_type": "code",
   "execution_count": 2,
   "metadata": {},
   "outputs": [],
   "source": [
    "import numpy as np\n",
    "from sklearn.cluster import KMeans\n",
    "import pandas as pd\n",
    "import scipy.stats as ss\n",
    "import seaborn as sns"
   ]
  },
  {
   "cell_type": "code",
   "execution_count": 3,
   "metadata": {},
   "outputs": [],
   "source": [
    "os.chdir(\"..\")"
   ]
  },
  {
   "cell_type": "code",
   "execution_count": 4,
   "metadata": {},
   "outputs": [],
   "source": [
    "np.random.seed(21)"
   ]
  },
  {
   "cell_type": "code",
   "execution_count": 5,
   "metadata": {},
   "outputs": [],
   "source": [
    "model_name  = 'concat60'\n",
    "savedir = f\"experiments/en_et_{model_name}/internals-docs/doc_encoded_train.pkl\"\n",
    "with open(savedir, 'rb') as f:\n",
    "    data_encoded = pickle.load(f)"
   ]
  },
  {
   "cell_type": "code",
   "execution_count": 6,
   "metadata": {},
   "outputs": [],
   "source": [
    "def cramers_corrected_stat(confusion_matrix):\n",
    "    \"\"\" calculate Cramers V statistic for categorial-categorial association.\n",
    "        uses correction from Bergsma and Wicher, \n",
    "        Journal of the Korean Statistical Society 42 (2013): 323-328\n",
    "    \"\"\"\n",
    "    chi2 = ss.chi2_contingency(confusion_matrix)[0]\n",
    "    n = confusion_matrix.sum().sum()\n",
    "    phi2 = chi2/n\n",
    "    r,k = confusion_matrix.shape\n",
    "    phi2corr = max(0, phi2 - ((k-1)*(r-1))/(n-1))    \n",
    "    rcorr = r - ((r-1)**2)/(n-1)\n",
    "    kcorr = k - ((k-1)**2)/(n-1)\n",
    "    return np.sqrt(phi2corr / min( (kcorr-1), (rcorr-1)))"
   ]
  },
  {
   "cell_type": "code",
   "execution_count": 7,
   "metadata": {},
   "outputs": [],
   "source": [
    "all_encoded = []\n",
    "all_labels = []\n",
    "for d, v in data_encoded.items():\n",
    "    all_encoded.extend(data_encoded[d])\n",
    "    all_labels.extend([d] * len(data_encoded[d]))   \n",
    "    \n",
    "all_encoded = np.array(all_encoded)\n",
    "all_labels = np.array(all_labels)"
   ]
  },
  {
   "cell_type": "code",
   "execution_count": 8,
   "metadata": {},
   "outputs": [
    {
     "name": "stdout",
     "output_type": "stream",
     "text": [
      "Corr k: 0.9949626561782315\n",
      "col_0               0       1       2       3\n",
      "row_0                                        \n",
      "EMEA                0     162  410365      13\n",
      "Europarl          118  499635       7     406\n",
      "JRC-Acquis          0    6019     484  493517\n",
      "OpenSubtitles  500540     336       0       0\n",
      "Saving to experiments/en_et_concat60/internals-docs/kmeans_train.pkl\n",
      "CPU times: user 7min 24s, sys: 12 s, total: 7min 36s\n",
      "Wall time: 1min 10s\n"
     ]
    }
   ],
   "source": [
    "%%time\n",
    "\n",
    "# indices = np.arange(all_encoded.shape[0])\n",
    "# np.random.shuffle(indices)\n",
    "\n",
    "# all_encoded = all_encoded[indices]\n",
    "# all_labels = all_labels[indices]\n",
    "\n",
    "kmeans = KMeans(n_clusters=4, random_state=0, n_init=5).fit(all_encoded)\n",
    "\n",
    "conf_matrix = pd.crosstab(all_labels, kmeans.labels_)\n",
    "corr_k = cramers_corrected_stat(conf_matrix)\n",
    "\n",
    "print(f\"Corr k: {corr_k}\")\n",
    "print(conf_matrix)\n",
    "\n",
    "savedir = f\"experiments/en_et_{model_name}/internals-docs\"\n",
    "if not os.path.isdir(savedir):\n",
    "    os.mkdir(savedir)\n",
    "    \n",
    "    \n",
    "print(f\"Saving to {savedir}/kmeans_train.pkl\")\n",
    "with open(f'{savedir}/kmeans_train.pkl', 'wb') as f:\n",
    "    pickle.dump(kmeans, f)\n",
    "\n",
    "i = 0\n",
    "for k,v in data_encoded.items():\n",
    "    fn = f\"nmt_labels-{k}.txt\"\n",
    "    np.savetxt(f\"{savedir}/{fn}\", kmeans.labels_[i:i+len(v)].astype(int), fmt=\"%i\")\n",
    "    i += len(v)"
   ]
  },
  {
   "cell_type": "code",
   "execution_count": 10,
   "metadata": {},
   "outputs": [
    {
     "data": {
      "text/plain": [
       "<AxesSubplot:xlabel='col_0', ylabel='row_0'>"
      ]
     },
     "execution_count": 10,
     "metadata": {},
     "output_type": "execute_result"
    },
    {
     "data": {
      "image/png": "[encoded data removed]",
      "text/plain": [
       "<Figure size 432x288 with 1 Axes>"
      ]
     },
     "metadata": {
      "needs_background": "light"
     },
     "output_type": "display_data"
    }
   ],
   "source": [
    "sns.heatmap(conf_matrix,\n",
    "            cmap=\"YlGnBu\", annot=True, cbar=False)"
   ]
  },
  {
   "cell_type": "markdown",
   "metadata": {},
   "source": [
    "# test and valid"
   ]
  },
  {
   "cell_type": "code",
   "execution_count": 11,
   "metadata": {},
   "outputs": [],
   "source": [
    "def predict(kmeans_model, split):\n",
    "    model_name  = 'concat60'\n",
    "    fn = f\"experiments/en_et_{model_name}/internals-docs/doc_encoded_{split}.pkl\"\n",
    "    with open(fn, 'rb') as f:\n",
    "        data_encoded = pickle.load(f)\n",
    "     \n",
    "    all_encoded = []\n",
    "    all_labels = []\n",
    "    for d, v in data_encoded.items():\n",
    "        all_encoded.extend(data_encoded[d])\n",
    "        all_labels.extend([d] * len(data_encoded[d]))   \n",
    "\n",
    "    all_encoded = np.array(all_encoded)\n",
    "    all_labels = np.array(all_labels)\n",
    "    \n",
    "    if split == 'train':\n",
    "        labels_hat = kmeans_model.labels_\n",
    "    else:\n",
    "        labels_hat = kmeans_model.predict(all_encoded)\n",
    "    \n",
    "    \n",
    "    conf_matrix = pd.crosstab(all_labels, labels_hat)\n",
    "    corr_k = cramers_corrected_stat(conf_matrix)\n",
    "\n",
    "    print(f\"Corr k: {corr_k}\")\n",
    "    print(conf_matrix)\n",
    "\n",
    "    savedir = f\"experiments/en_et_{model_name}/nmt-clusters-doc\"\n",
    "    if not os.path.isdir(savedir):\n",
    "        os.mkdir(savedir)\n",
    "\n",
    "\n",
    "    i = 0\n",
    "    for domain_name,v in data_encoded.items():\n",
    "        fn = f\"{domain_name}.{split}.clust.nmt.doc\"\n",
    "        np.savetxt(f\"{savedir}/{fn}\", labels_hat[i:i+len(v)].astype(int), fmt=\"%i\")\n",
    "        i += len(v)\n",
    "    \n",
    "    # also copy raw data\n",
    "    \n",
    "#     \"Copying raw data files\"\n",
    "#     import shutil\n",
    "\n",
    "#     domain_names = [\"Europarl\", \"OpenSubtitles\", \"JRC-Acquis\", \"EMEA\"]\n",
    "    \n",
    "#     for domain_name in domain_names:\n",
    "#         fs = f\"experiments/fairseq-data-en-et-{domain_name}-ft/{split}.en\"\n",
    "#         ft = f\"{savedir}/{domain_name}.{split}.en\"\n",
    "#         shutil.copyfile(fs, ft)\n",
    "        \n",
    "#         fs = f\"experiments/fairseq-data-en-et-{domain_name}-ft/{split}.et\"\n",
    "#         ft = f\"{savedir}/{domain_name}.{split}.et\"\n",
    "#         shutil.copyfile(fs, ft)\n",
    "        \n",
    "    \n",
    "    return labels_hat, all_labels, data_encoded, corr_k, conf_matrix"
   ]
  },
  {
   "cell_type": "code",
   "execution_count": 17,
   "metadata": {},
   "outputs": [
    {
     "name": "stdout",
     "output_type": "stream",
     "text": [
      "Corr k: 0.9949626561782315\n",
      "col_0               0       1       2       3\n",
      "row_0                                        \n",
      "EMEA                0     162  410365      13\n",
      "Europarl          118  499635       7     406\n",
      "JRC-Acquis          0    6019     484  493517\n",
      "OpenSubtitles  500540     336       0       0\n"
     ]
    },
    {
     "data": {
      "text/plain": [
       "<AxesSubplot:xlabel='col_0', ylabel='row_0'>"
      ]
     },
     "execution_count": 17,
     "metadata": {},
     "output_type": "execute_result"
    },
    {
     "data": {
      "image/png": "[encoded data removed]",
      "text/plain": [
       "<Figure size 432x288 with 1 Axes>"
      ]
     },
     "metadata": {
      "needs_background": "light"
     },
     "output_type": "display_data"
    }
   ],
   "source": [
    "r = predict(kmeans, 'train')\n",
    "sns.heatmap(r[-1],\n",
    "            cmap=\"YlGnBu\", annot=True, cbar=False)"
   ]
  },
  {
   "cell_type": "code",
   "execution_count": 18,
   "metadata": {},
   "outputs": [
    {
     "name": "stdout",
     "output_type": "stream",
     "text": [
      "Corr k: 1.0\n",
      "col_0             0     1     2     3\n",
      "row_0                                \n",
      "EMEA              0     0  3348     0\n",
      "Europarl          0  3716     0     0\n",
      "JRC-Acquis        0     0     0  3005\n",
      "OpenSubtitles  3044     0     0     0\n"
     ]
    },
    {
     "data": {
      "text/plain": [
       "<AxesSubplot:xlabel='col_0', ylabel='row_0'>"
      ]
     },
     "execution_count": 18,
     "metadata": {},
     "output_type": "execute_result"
    },
    {
     "data": {
      "image/png": "[encoded data removed]",
      "text/plain": [
       "<Figure size 432x288 with 1 Axes>"
      ]
     },
     "metadata": {
      "needs_background": "light"
     },
     "output_type": "display_data"
    }
   ],
   "source": [
    "r = predict(kmeans, 'dev-cl')\n",
    "sns.heatmap(r[-1],\n",
    "            cmap=\"YlGnBu\", annot=True, cbar=False)"
   ]
  },
  {
   "cell_type": "code",
   "execution_count": 19,
   "metadata": {},
   "outputs": [
    {
     "name": "stdout",
     "output_type": "stream",
     "text": [
      "Corr k: 0.9882729687062654\n",
      "col_0             0     1     2     3\n",
      "row_0                                \n",
      "EMEA              0     0  3312     3\n",
      "Europarl          0  3107     0     0\n",
      "JRC-Acquis        0   111     0  3079\n",
      "OpenSubtitles  3085     0     0     0\n"
     ]
    },
    {
     "data": {
      "text/plain": [
       "<AxesSubplot:xlabel='col_0', ylabel='row_0'>"
      ]
     },
     "execution_count": 19,
     "metadata": {},
     "output_type": "execute_result"
    },
    {
     "data": {
      "image/png": "[encoded data removed]",
      "text/plain": [
       "<Figure size 432x288 with 1 Axes>"
      ]
     },
     "metadata": {
      "needs_background": "light"
     },
     "output_type": "display_data"
    }
   ],
   "source": [
    "r = predict(kmeans, 'test-cl')\n",
    "sns.heatmap(r[-1],\n",
    "            cmap=\"YlGnBu\", annot=True, cbar=False)"
   ]
  },
  {
   "cell_type": "markdown",
   "metadata": {},
   "source": [
    "# Bert sent clusters"
   ]
  },
  {
   "cell_type": "code",
   "execution_count": 10,
   "metadata": {},
   "outputs": [],
   "source": [
    "labels_bert = {}\n",
    "domain_names = [\"Europarl\", \"OpenSubtitles\", \"JRC-Acquis\", \"EMEA\"]\n",
    "for domain_name in domain_names:\n",
    "    fn = f\"experiments/data-clust/clusters/cl-{domain_name}.en-et.docs.train.clusters_sent_4.txt\" # TODO: change to train\n",
    "    with open(fn) as f:\n",
    "        labels_bert[domain_name] = [int(l[:-1]) for l in f.readlines()]"
   ]
  },
  {
   "cell_type": "code",
   "execution_count": 11,
   "metadata": {},
   "outputs": [],
   "source": [
    "labels_bert_all = []\n",
    "labels_bert_all_true = []\n",
    "for k,v in labels_bert.items():\n",
    "    labels_bert_all.extend(v)\n",
    "    labels_bert_all_true.extend([k] * len(v))"
   ]
  },
  {
   "cell_type": "code",
   "execution_count": 12,
   "metadata": {},
   "outputs": [
    {
     "name": "stdout",
     "output_type": "stream",
     "text": [
      "0.24168047830449288\n",
      "col_0               0       1      2       3\n",
      "row_0                                       \n",
      "EMEA            72707  140991  39598  157244\n",
      "Europarl       166334  177192  56586  100054\n",
      "JRC-Acquis     162534  163134  29920  144432\n",
      "OpenSubtitles   46245   50394  84391  319846\n"
     ]
    }
   ],
   "source": [
    "conf_matrix = pd.crosstab(np.array(labels_bert_all_true), np.array(labels_bert_all))\n",
    "corr_k = cramers_corrected_stat(conf_matrix)\n",
    "print(corr_k)\n",
    "print(conf_matrix)"
   ]
  },
  {
   "cell_type": "code",
   "execution_count": 13,
   "metadata": {},
   "outputs": [
    {
     "data": {
      "text/plain": [
       "<AxesSubplot:xlabel='col_0', ylabel='row_0'>"
      ]
     },
     "execution_count": 13,
     "metadata": {},
     "output_type": "execute_result"
    },
    {
     "data": {
      "image/png": "[encoded data removed]",
      "text/plain": [
       "<Figure size 432x288 with 1 Axes>"
      ]
     },
     "metadata": {
      "needs_background": "light"
     },
     "output_type": "display_data"
    }
   ],
   "source": [
    "sns.heatmap(conf_matrix,\n",
    "            cmap=\"YlGnBu\", annot=True, cbar=False)"
   ]
  },
  {
   "cell_type": "markdown",
   "metadata": {},
   "source": [
    "# Bert doc clusters"
   ]
  },
  {
   "cell_type": "code",
   "execution_count": 14,
   "metadata": {},
   "outputs": [],
   "source": [
    "labels_bert = {}\n",
    "domain_names = [\"Europarl\", \"OpenSubtitles\", \"JRC-Acquis\", \"EMEA\"]\n",
    "for domain_name in domain_names:\n",
    "    fn = f\"experiments/data-clust/clusters/cl-{domain_name}.en-et.docs.train.clusters_doc_4.txt\" # TODO: change to train\n",
    "    with open(fn) as f:\n",
    "        labels_bert[domain_name] = [int(l[:-1]) for l in f.readlines()]"
   ]
  },
  {
   "cell_type": "code",
   "execution_count": 15,
   "metadata": {},
   "outputs": [],
   "source": [
    "labels_bert_all = []\n",
    "labels_bert_all_true = []\n",
    "for k,v in labels_bert.items():\n",
    "    labels_bert_all.extend(v)\n",
    "    labels_bert_all_true.extend([k] * len(v))"
   ]
  },
  {
   "cell_type": "code",
   "execution_count": 16,
   "metadata": {},
   "outputs": [
    {
     "name": "stdout",
     "output_type": "stream",
     "text": [
      "0.8089680719230101\n",
      "col_0               0       1       2       3\n",
      "row_0                                        \n",
      "EMEA            42870  344373    3200   20097\n",
      "Europarl          521    3372  493821    2452\n",
      "JRC-Acquis     279334  152902   61959    5825\n",
      "OpenSubtitles    1001    9881     899  489095\n"
     ]
    }
   ],
   "source": [
    "conf_matrix = pd.crosstab(np.array(labels_bert_all_true), np.array(labels_bert_all))\n",
    "corr_k = cramers_corrected_stat(conf_matrix)\n",
    "print(corr_k)\n",
    "print(conf_matrix)"
   ]
  },
  {
   "cell_type": "code",
   "execution_count": 17,
   "metadata": {},
   "outputs": [
    {
     "data": {
      "text/plain": [
       "<AxesSubplot:xlabel='col_0', ylabel='row_0'>"
      ]
     },
     "execution_count": 17,
     "metadata": {},
     "output_type": "execute_result"
    },
    {
     "data": {
      "image/png": "[encoded data removed]",
      "text/plain": [
       "<Figure size 432x288 with 1 Axes>"
      ]
     },
     "metadata": {
      "needs_background": "light"
     },
     "output_type": "display_data"
    }
   ],
   "source": [
    "sns.heatmap(conf_matrix,\n",
    "            cmap=\"YlGnBu\", annot=True, cbar=False)"
   ]
  },
  {
   "cell_type": "markdown",
   "metadata": {},
   "source": [
    "# Rand clusters"
   ]
  },
  {
   "cell_type": "code",
   "execution_count": 18,
   "metadata": {},
   "outputs": [],
   "source": [
    "from random import sample"
   ]
  },
  {
   "cell_type": "code",
   "execution_count": 19,
   "metadata": {},
   "outputs": [],
   "source": [
    "labels_rand = {}\n",
    "domain_names = [\"Europarl\", \"OpenSubtitles\", \"JRC-Acquis\", \"EMEA\"]\n",
    "for domain_name in domain_names:\n",
    "    fn = f\"experiments/data-clust-new/clusters/cl-{domain_name}.en-et.docs.train.clusters_doc_4.txt\" # TODO: change to train\n",
    "    with open(fn) as f:\n",
    "        labels_rand[domain_name] = [sample([0,1,2,3], 1)[0] for l in f.readlines()]"
   ]
  },
  {
   "cell_type": "code",
   "execution_count": 20,
   "metadata": {},
   "outputs": [],
   "source": [
    "labels_rand_all = []\n",
    "labels_rand_all_true = []\n",
    "for k,v in labels_rand.items():\n",
    "    labels_rand_all.extend(v)\n",
    "    labels_rand_all_true.extend([k] * len(v))"
   ]
  },
  {
   "cell_type": "code",
   "execution_count": 21,
   "metadata": {},
   "outputs": [
    {
     "name": "stdout",
     "output_type": "stream",
     "text": [
      "0.0\n",
      "col_0               0       1       2       3\n",
      "row_0                                        \n",
      "EMEA           102320  102765  102762  102693\n",
      "Europarl       124741  124613  125804  125008\n",
      "JRC-Acquis     125047  125288  124874  124811\n",
      "OpenSubtitles  125142  125495  124959  125280\n"
     ]
    }
   ],
   "source": [
    "conf_matrix = pd.crosstab(np.array(labels_rand_all_true), np.array(labels_rand_all))\n",
    "corr_k = cramers_corrected_stat(conf_matrix)\n",
    "print(corr_k)\n",
    "print(conf_matrix)"
   ]
  },
  {
   "cell_type": "code",
   "execution_count": 22,
   "metadata": {},
   "outputs": [
    {
     "data": {
      "text/plain": [
       "<AxesSubplot:xlabel='col_0', ylabel='row_0'>"
      ]
     },
     "execution_count": 22,
     "metadata": {},
     "output_type": "execute_result"
    },
    {
     "data": {
      "image/png": "[encoded data removed]",
      "text/plain": [
       "<Figure size 432x288 with 1 Axes>"
      ]
     },
     "metadata": {
      "needs_background": "light"
     },
     "output_type": "display_data"
    }
   ],
   "source": [
    "sns.heatmap(conf_matrix,\n",
    "            cmap=\"YlGnBu\", annot=True, cbar=False)"
   ]
  },
  {
   "cell_type": "code",
   "execution_count": 23,
   "metadata": {},
   "outputs": [
    {
     "ename": "NameError",
     "evalue": "name 'data_raw' is not defined",
     "output_type": "error",
     "traceback": [
      "\u001b[0;31m---------------------------------------------------------------------------\u001b[0m",
      "\u001b[0;31mNameError\u001b[0m                                 Traceback (most recent call last)",
      "\u001b[0;32m<ipython-input-23-85d935c2e048>\u001b[0m in \u001b[0;36m<module>\u001b[0;34m\u001b[0m\n\u001b[1;32m      1\u001b[0m \u001b[0mi\u001b[0m \u001b[0;34m=\u001b[0m \u001b[0;36m0\u001b[0m\u001b[0;34m\u001b[0m\u001b[0;34m\u001b[0m\u001b[0m\n\u001b[0;32m----> 2\u001b[0;31m \u001b[0;32mfor\u001b[0m \u001b[0mk\u001b[0m\u001b[0;34m,\u001b[0m\u001b[0mv\u001b[0m \u001b[0;32min\u001b[0m \u001b[0mdata_raw\u001b[0m\u001b[0;34m.\u001b[0m\u001b[0mitems\u001b[0m\u001b[0;34m(\u001b[0m\u001b[0;34m)\u001b[0m\u001b[0;34m:\u001b[0m\u001b[0;34m\u001b[0m\u001b[0;34m\u001b[0m\u001b[0m\n\u001b[0m\u001b[1;32m      3\u001b[0m     \u001b[0mfn\u001b[0m \u001b[0;34m=\u001b[0m \u001b[0;34mf\"rand_labels-{k}.txt\"\u001b[0m\u001b[0;34m\u001b[0m\u001b[0;34m\u001b[0m\u001b[0m\n\u001b[1;32m      4\u001b[0m     \u001b[0mnp\u001b[0m\u001b[0;34m.\u001b[0m\u001b[0msavetxt\u001b[0m\u001b[0;34m(\u001b[0m\u001b[0;34mf\"{savedir}/{fn}\"\u001b[0m\u001b[0;34m,\u001b[0m \u001b[0mnp\u001b[0m\u001b[0;34m.\u001b[0m\u001b[0marray\u001b[0m\u001b[0;34m(\u001b[0m\u001b[0mlabels_rand_all\u001b[0m\u001b[0;34m)\u001b[0m\u001b[0;34m[\u001b[0m\u001b[0mi\u001b[0m\u001b[0;34m:\u001b[0m\u001b[0mi\u001b[0m\u001b[0;34m+\u001b[0m\u001b[0mlen\u001b[0m\u001b[0;34m(\u001b[0m\u001b[0mv\u001b[0m\u001b[0;34m)\u001b[0m\u001b[0;34m]\u001b[0m\u001b[0;34m.\u001b[0m\u001b[0mastype\u001b[0m\u001b[0;34m(\u001b[0m\u001b[0mint\u001b[0m\u001b[0;34m)\u001b[0m\u001b[0;34m,\u001b[0m \u001b[0mfmt\u001b[0m\u001b[0;34m=\u001b[0m\u001b[0;34m\"%i\"\u001b[0m\u001b[0;34m)\u001b[0m\u001b[0;34m\u001b[0m\u001b[0;34m\u001b[0m\u001b[0m\n\u001b[1;32m      5\u001b[0m     \u001b[0mi\u001b[0m \u001b[0;34m+=\u001b[0m \u001b[0mlen\u001b[0m\u001b[0;34m(\u001b[0m\u001b[0mv\u001b[0m\u001b[0;34m)\u001b[0m\u001b[0;34m\u001b[0m\u001b[0;34m\u001b[0m\u001b[0m\n",
      "\u001b[0;31mNameError\u001b[0m: name 'data_raw' is not defined"
     ]
    }
   ],
   "source": [
    "i = 0\n",
    "for k,v in data_raw.items():\n",
    "    fn = f\"rand_labels-{k}.txt\"\n",
    "    np.savetxt(f\"{savedir}/{fn}\", np.array(labels_rand_all)[i:i+len(v)].astype(int), fmt=\"%i\")\n",
    "    i += len(v)"
   ]
  }
 ],
 "metadata": {
  "kernelspec": {
   "display_name": "Python (da)",
   "language": "python",
   "name": "da"
  },
  "language_info": {
   "codemirror_mode": {
    "name": "ipython",
    "version": 3
   },
   "file_extension": ".py",
   "mimetype": "text/x-python",
   "name": "python",
   "nbconvert_exporter": "python",
   "pygments_lexer": "ipython3",
   "version": "3.8.5"
  }
 },
 "nbformat": 4,
 "nbformat_minor": 2
}
