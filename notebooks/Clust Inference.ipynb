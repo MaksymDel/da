{
 "cells": [
  {
   "cell_type": "code",
   "execution_count": 1,
   "metadata": {},
   "outputs": [],
   "source": [
    "import glob, os\n",
    "import pickle\n",
    "from copy import deepcopy\n",
    "\n",
    "import torch\n",
    "import pandas as pd\n",
    "import numpy as np\n",
    "\n",
    "from transformers import AutoTokenizer, AutoModel"
   ]
  },
  {
   "cell_type": "markdown",
   "metadata": {},
   "source": [
    "# Read data"
   ]
  },
  {
   "cell_type": "code",
   "execution_count": 2,
   "metadata": {},
   "outputs": [],
   "source": [
    "data_path = \"/home/maksym/da-corpora\"\n",
    "os.chdir(data_path)"
   ]
  },
  {
   "cell_type": "code",
   "execution_count": 3,
   "metadata": {},
   "outputs": [
    {
     "name": "stdout",
     "output_type": "stream",
     "text": [
      "cl-Europarl.en-et.docs.test-cl\n",
      "cl-EMEA.en-et.docs.test-cl\n",
      "cl-Europarl.en-et.docs.dev-cl\n",
      "cl-JRC-Acquis.en-et.docs.dev-cl\n",
      "cl-EMEA.en-et.docs.dev-cl\n",
      "cl-OpenSubtitles.en-et.docs.dev-cl\n",
      "cl-OpenSubtitles.en-et.docs.test-cl\n",
      "cl-JRC-Acquis.en-et.docs.test-cl\n"
     ]
    }
   ],
   "source": [
    "files = []\n",
    "for file in glob.glob(\"*-cl\"):\n",
    "    print(file)\n",
    "    files.append(open(file, 'r').readlines())"
   ]
  },
  {
   "cell_type": "code",
   "execution_count": 4,
   "metadata": {},
   "outputs": [],
   "source": [
    "# reduce files to eglish sentences but keep doc ids\n",
    "\n",
    "sent_index = deepcopy(files)\n",
    "\n",
    "for ind, f in enumerate(files):\n",
    "    for i in range(len(f)):\n",
    "        sent_index[ind][i] = f[i].split('\\t')[0]\n",
    "        f[i] = f[i].split('\\t')[1]"
   ]
  },
  {
   "cell_type": "markdown",
   "metadata": {},
   "source": [
    "# Embed"
   ]
  },
  {
   "cell_type": "code",
   "execution_count": 5,
   "metadata": {},
   "outputs": [],
   "source": [
    "model = AutoModel.from_pretrained('xlm-roberta-base')\n",
    "tokenizer = AutoTokenizer.from_pretrained('xlm-roberta-base')"
   ]
  },
  {
   "cell_type": "code",
   "execution_count": 6,
   "metadata": {},
   "outputs": [],
   "source": [
    "# same calss as in embed notebook\n",
    "class Embedder:\n",
    "    def __init__(self, model, tokeinzer):    \n",
    "        self.model = model.cuda()\n",
    "        self.tokenizer = tokenizer\n",
    "        \n",
    "    def embed_batch(self, batch):\n",
    "        input_ids = self.tokenizer(batch, \n",
    "                          return_tensors='pt', \n",
    "                          truncation=True, \n",
    "                          padding=True, \n",
    "                          max_length=100)['input_ids']\n",
    "        with torch.no_grad():\n",
    "            res = self.model(input_ids.cuda(), output_hidden_states=True, return_dict=True)\n",
    "        return res['hidden_states'][7].mean(1).cpu().detach().numpy()\n"
   ]
  },
  {
   "cell_type": "code",
   "execution_count": 7,
   "metadata": {},
   "outputs": [],
   "source": [
    "embedder = Embedder(model, tokenizer)"
   ]
  },
  {
   "cell_type": "code",
   "execution_count": 8,
   "metadata": {},
   "outputs": [
    {
     "name": "stdout",
     "output_type": "stream",
     "text": [
      "0 / 4\n",
      "1 / 4\n",
      "2 / 4\n",
      "3 / 4\n",
      "0 / 4\n",
      "1 / 4\n",
      "2 / 4\n",
      "3 / 4\n",
      "0 / 4\n",
      "1 / 4\n",
      "2 / 4\n",
      "3 / 4\n",
      "0 / 4\n",
      "1 / 4\n",
      "2 / 4\n",
      "3 / 4\n",
      "0 / 4\n",
      "1 / 4\n",
      "2 / 4\n",
      "3 / 4\n",
      "0 / 4\n",
      "1 / 4\n",
      "2 / 4\n",
      "3 / 4\n",
      "0 / 4\n",
      "1 / 4\n",
      "2 / 4\n",
      "3 / 4\n",
      "0 / 4\n",
      "1 / 4\n",
      "2 / 4\n",
      "3 / 4\n",
      "CPU times: user 48.1 s, sys: 14.4 s, total: 1min 2s\n",
      "Wall time: 1min 2s\n"
     ]
    }
   ],
   "source": [
    "%%time\n",
    "\n",
    "files_emb = []\n",
    "for sentences in files:\n",
    "\n",
    "    sent_emb = []\n",
    "    \n",
    "    bs = 1000\n",
    "    chunks = [sentences[x:x+bs] for x in range(0, len(sentences), bs)]\n",
    "\n",
    "    for i, chunk in enumerate(chunks):\n",
    "        print(f\"{i} / {len(chunks)}\") \n",
    "        chunk_emb = embedder.embed_batch(chunk)\n",
    "        sent_emb.extend(chunk_emb)\n",
    "    \n",
    "    files_emb.append(sent_emb)"
   ]
  },
  {
   "cell_type": "markdown",
   "metadata": {},
   "source": [
    "# Cluster"
   ]
  },
  {
   "cell_type": "markdown",
   "metadata": {},
   "source": [
    "### Sent"
   ]
  },
  {
   "cell_type": "code",
   "execution_count": 9,
   "metadata": {},
   "outputs": [],
   "source": [
    "kmeans_sent_4 = pickle.load(open(\"kmeans_sent_4.pkl\", 'rb'))\n",
    "kmeans_sent_16 = pickle.load(open(\"kmeans_sent_16.pkl\", 'rb'))\n",
    "kmeans_sent_64 = pickle.load(open(\"kmeans_sent_64.pkl\", 'rb'))"
   ]
  },
  {
   "cell_type": "code",
   "execution_count": 10,
   "metadata": {},
   "outputs": [],
   "source": [
    "fnames = []\n",
    "for file in glob.glob(\"*-cl\"):\n",
    "    fnames.append(file)"
   ]
  },
  {
   "cell_type": "code",
   "execution_count": 11,
   "metadata": {},
   "outputs": [
    {
     "data": {
      "text/plain": [
       "['cl-Europarl.en-et.docs.test-cl',\n",
       " 'cl-EMEA.en-et.docs.test-cl',\n",
       " 'cl-Europarl.en-et.docs.dev-cl',\n",
       " 'cl-JRC-Acquis.en-et.docs.dev-cl',\n",
       " 'cl-EMEA.en-et.docs.dev-cl',\n",
       " 'cl-OpenSubtitles.en-et.docs.dev-cl',\n",
       " 'cl-OpenSubtitles.en-et.docs.test-cl',\n",
       " 'cl-JRC-Acquis.en-et.docs.test-cl']"
      ]
     },
     "execution_count": 11,
     "metadata": {},
     "output_type": "execute_result"
    }
   ],
   "source": [
    "fnames"
   ]
  },
  {
   "cell_type": "code",
   "execution_count": 12,
   "metadata": {},
   "outputs": [],
   "source": [
    "for fe, fn in zip(files_emb, fnames):\n",
    "#     clusters_sent_4 = kmeans_sent_4.predict(fe)\n",
    "#     clusters_sent_16 = kmeans_sent_16.predict(fe)\n",
    "#     clusters_sent_64 = kmeans_sent_64.predict(fe)\n",
    "    \n",
    "    with open(f'{fn}.clusters_sent_4.txt', 'w') as f:\n",
    "        for item in kmeans_sent_4.predict(fe):\n",
    "            f.write(\"%s\\n\" % item)\n",
    "    \n",
    "    with open(f'{fn}.clusters_sent_16.txt', 'w') as f:\n",
    "        for item in kmeans_sent_16.predict(fe):\n",
    "            f.write(\"%s\\n\" % item)\n",
    "    \n",
    "    with open(f'{fn}.clusters_sent_64.txt', 'w') as f:\n",
    "        for item in kmeans_sent_64.predict(fe):\n",
    "            f.write(\"%s\\n\" % item)\n",
    "    \n"
   ]
  },
  {
   "cell_type": "markdown",
   "metadata": {},
   "source": [
    "### Doc"
   ]
  },
  {
   "cell_type": "code",
   "execution_count": 13,
   "metadata": {},
   "outputs": [],
   "source": [
    "kmeans_doc_4 = pickle.load(open(\"kmeans_doc_4.pkl\", 'rb'))\n",
    "kmeans_doc_16 = pickle.load(open(\"kmeans_doc_16.pkl\", 'rb'))\n",
    "kmeans_doc_64 = pickle.load(open(\"kmeans_doc_64.pkl\", 'rb'))"
   ]
  },
  {
   "cell_type": "code",
   "execution_count": 14,
   "metadata": {},
   "outputs": [],
   "source": [
    "fnames = []\n",
    "for file in glob.glob(\"*-cl\"):\n",
    "    fnames.append(file)"
   ]
  },
  {
   "cell_type": "code",
   "execution_count": 15,
   "metadata": {},
   "outputs": [
    {
     "data": {
      "text/plain": [
       "['cl-Europarl.en-et.docs.test-cl',\n",
       " 'cl-EMEA.en-et.docs.test-cl',\n",
       " 'cl-Europarl.en-et.docs.dev-cl',\n",
       " 'cl-JRC-Acquis.en-et.docs.dev-cl',\n",
       " 'cl-EMEA.en-et.docs.dev-cl',\n",
       " 'cl-OpenSubtitles.en-et.docs.dev-cl',\n",
       " 'cl-OpenSubtitles.en-et.docs.test-cl',\n",
       " 'cl-JRC-Acquis.en-et.docs.test-cl']"
      ]
     },
     "execution_count": 15,
     "metadata": {},
     "output_type": "execute_result"
    }
   ],
   "source": [
    "fnames"
   ]
  },
  {
   "cell_type": "code",
   "execution_count": 16,
   "metadata": {},
   "outputs": [
    {
     "data": {
      "text/plain": [
       "8"
      ]
     },
     "execution_count": 16,
     "metadata": {},
     "output_type": "execute_result"
    }
   ],
   "source": [
    "len(sent_index)"
   ]
  },
  {
   "cell_type": "code",
   "execution_count": 20,
   "metadata": {},
   "outputs": [],
   "source": [
    "from collections import defaultdict "
   ]
  },
  {
   "cell_type": "code",
   "execution_count": 21,
   "metadata": {},
   "outputs": [],
   "source": [
    "doc2embs_list = []\n",
    "\n",
    "for sent_ids, sent_embs in zip(sent_index, files_emb):\n",
    "    doc2embs = defaultdict(list)\n",
    "    for i, doc_id in enumerate(sent_ids):\n",
    "        doc2embs[doc_id].append(sent_embs[i])\n",
    "    doc2embs_list.append(doc2embs)"
   ]
  },
  {
   "cell_type": "code",
   "execution_count": 37,
   "metadata": {},
   "outputs": [],
   "source": [
    "for d2embs in doc2embs_list:\n",
    "    for doc_id, embs in d2embs.items():\n",
    "        d2embs[doc_id] = np.mean(embs, 0)"
   ]
  },
  {
   "cell_type": "code",
   "execution_count": 38,
   "metadata": {},
   "outputs": [],
   "source": [
    "files_emb = []\n",
    "for i, f in enumerate(sent_index):\n",
    "    fe = []\n",
    "    for doc_id in f:\n",
    "        fe.append(doc2embs_list[i][doc_id])\n",
    "    files_emb.append(fe)\n",
    "        "
   ]
  },
  {
   "cell_type": "code",
   "execution_count": 40,
   "metadata": {},
   "outputs": [],
   "source": [
    "for fe, fn in zip(files_emb, fnames):\n",
    "#     clusters_sent_4 = kmeans_sent_4.predict(fe)\n",
    "#     clusters_sent_16 = kmeans_sent_16.predict(fe)\n",
    "#     clusters_sent_64 = kmeans_sent_64.predict(fe)\n",
    "    \n",
    "    with open(f'{fn}.clusters_doc_4.txt', 'w') as f:\n",
    "        for item in kmeans_doc_4.predict(fe):\n",
    "            f.write(\"%s\\n\" % item)\n",
    "    \n",
    "    with open(f'{fn}.clusters_doc_16.txt', 'w') as f:\n",
    "        for item in kmeans_doc_16.predict(fe):\n",
    "            f.write(\"%s\\n\" % item)\n",
    "    \n",
    "    with open(f'{fn}.clusters_doc_64.txt', 'w') as f:\n",
    "        for item in kmeans_doc_64.predict(fe):\n",
    "            f.write(\"%s\\n\" % item)\n",
    "    \n"
   ]
  },
  {
   "cell_type": "code",
   "execution_count": 42,
   "metadata": {},
   "outputs": [],
   "source": [
    "from collections import Counter"
   ]
  },
  {
   "cell_type": "code",
   "execution_count": 45,
   "metadata": {},
   "outputs": [
    {
     "name": "stdout",
     "output_type": "stream",
     "text": [
      "cl-Europarl.en-et.docs.test-cl\n",
      "[(0, 11), (1, 9), (2, 3066), (3, 21)]\n",
      "cl-EMEA.en-et.docs.test-cl\n",
      "[(0, 683), (1, 2532), (2, 46), (3, 54)]\n",
      "cl-Europarl.en-et.docs.dev-cl\n",
      "[(2, 3716)]\n",
      "cl-JRC-Acquis.en-et.docs.dev-cl\n",
      "[(0, 1506), (1, 168), (2, 1326), (3, 5)]\n",
      "cl-EMEA.en-et.docs.dev-cl\n",
      "[(0, 1616), (1, 1592), (2, 120), (3, 20)]\n",
      "cl-OpenSubtitles.en-et.docs.dev-cl\n",
      "[(3, 3044)]\n",
      "cl-OpenSubtitles.en-et.docs.test-cl\n",
      "[(3, 3085)]\n",
      "cl-JRC-Acquis.en-et.docs.test-cl\n",
      "[(0, 924), (1, 58), (2, 2208)]\n"
     ]
    }
   ],
   "source": [
    "for fe, fn in zip(files_emb, fnames):\n",
    "#     clusters_sent_4 = kmeans_sent_4.predict(fe)\n",
    "#     clusters_sent_16 = kmeans_sent_16.predict(fe)\n",
    "#     clusters_sent_64 = kmeans_sent_64.predict(fe)\n",
    "    \n",
    "    print(fn)\n",
    "    print(sorted(Counter(kmeans_doc_4.predict(fe)).items()))\n",
    "    \n",
    "#     with open(f'{fn}.clusters_doc_16.txt', 'w') as f:\n",
    "#         for item in kmeans_doc_16.predict(fe):\n",
    "#             f.write(\"%s\\n\" % item)\n",
    "    \n",
    "#     with open(f'{fn}.clusters_doc_64.txt', 'w') as f:\n",
    "#         for item in kmeans_doc_64.predict(fe):\n",
    "#             f.write(\"%s\\n\" % item)\n",
    "    "
   ]
  },
  {
   "cell_type": "code",
   "execution_count": null,
   "metadata": {},
   "outputs": [],
   "source": []
  }
 ],
 "metadata": {
  "kernelspec": {
   "display_name": "bertology",
   "language": "python",
   "name": "bertology"
  },
  "language_info": {
   "codemirror_mode": {
    "name": "ipython",
    "version": 3
   },
   "file_extension": ".py",
   "mimetype": "text/x-python",
   "name": "python",
   "nbconvert_exporter": "python",
   "pygments_lexer": "ipython3",
   "version": "3.7.7"
  }
 },
 "nbformat": 4,
 "nbformat_minor": 2
}
