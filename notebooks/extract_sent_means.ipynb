{
 "cells": [
  {
   "cell_type": "code",
   "execution_count": 2,
   "metadata": {},
   "outputs": [],
   "source": [
    "%load_ext autoreload\n",
    "%autoreload 2"
   ]
  },
  {
   "cell_type": "code",
   "execution_count": 3,
   "metadata": {},
   "outputs": [],
   "source": [
    "import os\n",
    "from os.path import basename, dirname\n",
    "from shutil import copyfile\n",
    "\n",
    "import json\n",
    "import pickle\n",
    "from collections import OrderedDict\n",
    "\n",
    "import torch"
   ]
  },
  {
   "cell_type": "code",
   "execution_count": 4,
   "metadata": {},
   "outputs": [],
   "source": [
    "os.chdir(\"..\")"
   ]
  },
  {
   "cell_type": "code",
   "execution_count": 5,
   "metadata": {},
   "outputs": [],
   "source": [
    "from da.fsmt.modeling_fsmt import FSMTForConditionalGeneration\n",
    "from da.fsmt.tokenization_fsmt import FSMTTokenizer"
   ]
  },
  {
   "cell_type": "code",
   "execution_count": 6,
   "metadata": {},
   "outputs": [],
   "source": [
    "from collections import defaultdict"
   ]
  },
  {
   "cell_type": "code",
   "execution_count": 7,
   "metadata": {},
   "outputs": [],
   "source": [
    "# taken from https://github.com/allenai/allennlp/blob/master/allennlp/nn/util.py\n",
    "\n",
    "def masked_mean(\n",
    "    vector: torch.Tensor, mask: torch.BoolTensor, dim: int, keepdim: bool = False\n",
    ") -> torch.Tensor:\n",
    "    \"\"\"\n",
    "    To calculate mean along certain dimensions on masked values\n",
    "    # Parameters\n",
    "    vector : `torch.Tensor`\n",
    "        The vector to calculate mean.\n",
    "    mask : `torch.BoolTensor`\n",
    "        The mask of the vector. It must be broadcastable with vector.\n",
    "    dim : `int`\n",
    "        The dimension to calculate mean\n",
    "    keepdim : `bool`\n",
    "        Whether to keep dimension\n",
    "    # Returns\n",
    "    `torch.Tensor`\n",
    "        A `torch.Tensor` of including the mean values.\n",
    "    \"\"\"\n",
    "    def tiny_value_of_dtype(dtype: torch.dtype):\n",
    "        if not dtype.is_floating_point:\n",
    "            raise TypeError(\"Only supports floating point dtypes.\")\n",
    "        if dtype == torch.float or dtype == torch.double:\n",
    "            return 1e-13\n",
    "        elif dtype == torch.half:\n",
    "            return 1e-4\n",
    "        else:\n",
    "            raise TypeError(\"Does not support dtype \" + str(dtype))\n",
    "\n",
    "    replaced_vector = vector.masked_fill(~mask, 0.0)\n",
    "    value_sum = torch.sum(replaced_vector, dim=dim, keepdim=keepdim)\n",
    "    value_count = torch.sum(mask, dim=dim, keepdim=keepdim)\n",
    "    return value_sum / value_count.float().clamp(min=tiny_value_of_dtype(torch.float))\n"
   ]
  },
  {
   "cell_type": "code",
   "execution_count": 8,
   "metadata": {},
   "outputs": [],
   "source": [
    "def get_sent_reps(src, tokenizer_hf, encoder_hf, layer_id=4):\n",
    "    # tok\n",
    "    src = tokenizer_hf.batch_encode_plus(\n",
    "        src,\n",
    "        padding=\"longest\", \n",
    "        return_tensors=\"pt\",\n",
    "        return_token_type_ids=False,\n",
    "        return_attention_mask=True\n",
    "    )\n",
    "    # res\n",
    "    for k, v in src.items():\n",
    "        src[k] = v.to(model_hf.device)\n",
    "    \n",
    "    with torch.no_grad():\n",
    "        res = encoder_hf.forward(**src,\n",
    "                           return_dict=True,\n",
    "                           output_hidden_states=True,\n",
    "                           #output_attentions=True,\n",
    "                           )\n",
    "    \n",
    "    #he = [r.detach().cpu().numpy() for r in res['hidden_states']]\n",
    "    \n",
    "    he = res['hidden_states'][layer_id]\n",
    "    \n",
    "    he_means = masked_mean(he, src['attention_mask'].unsqueeze(2).bool(), 1)\n",
    "        \n",
    "    return he_means.detach().cpu().numpy()"
   ]
  },
  {
   "cell_type": "code",
   "execution_count": 9,
   "metadata": {},
   "outputs": [],
   "source": [
    "model_name  = 'concat60'    \n",
    "hf_dir = f\"experiments/en_et_{model_name}/hf\"\n",
    "\n",
    "tokenizer_hf = FSMTTokenizer.from_pretrained(hf_dir)\n",
    "model_hf = FSMTForConditionalGeneration.from_pretrained(hf_dir)\n",
    "model_hf = model_hf.cuda()\n",
    "encoder_hf = model_hf.base_model.encoder"
   ]
  },
  {
   "cell_type": "code",
   "execution_count": 10,
   "metadata": {},
   "outputs": [],
   "source": [
    "data_raw = {}\n",
    "domain_names = [\"Europarl\", \"OpenSubtitles\", \"JRC-Acquis\", \"EMEA\"]\n",
    "for domain_name in domain_names:\n",
    "    fn = f\"experiments/fairseq-data-en-et-{domain_name}-ft/train.en\" # TODO: change to train\n",
    "    with open(fn) as f:\n",
    "        data_raw[domain_name] = [l[:-1] for l in f.readlines()]"
   ]
  },
  {
   "cell_type": "code",
   "execution_count": 10,
   "metadata": {},
   "outputs": [
    {
     "name": "stdout",
     "output_type": "stream",
     "text": [
      "Encoding Europarl data...\n",
      "0\n",
      "100\n",
      "200\n",
      "300\n",
      "400\n",
      "500\n",
      "600\n",
      "700\n",
      "800\n",
      "900\n",
      "Encoding OpenSubtitles data...\n",
      "0\n",
      "100\n",
      "200\n",
      "300\n",
      "400\n",
      "500\n",
      "600\n",
      "700\n",
      "800\n",
      "900\n",
      "Encoding JRC-Acquis data...\n",
      "0\n",
      "100\n",
      "200\n",
      "300\n",
      "400\n",
      "500\n",
      "600\n",
      "700\n",
      "800\n",
      "900\n",
      "Encoding EMEA data...\n",
      "0\n",
      "100\n",
      "200\n",
      "300\n",
      "400\n",
      "500\n",
      "600\n",
      "700\n",
      "800\n",
      "Saving to experiments/en_et_concat60/internals/sent_means_train.pkl\n",
      "CPU times: user 17min 23s, sys: 5min 4s, total: 22min 27s\n",
      "Wall time: 22min 33s\n"
     ]
    }
   ],
   "source": [
    "%%time\n",
    "\n",
    "BATCH_SIZE = 512\n",
    "LAYER_ID = 4\n",
    "\n",
    "data_encoded = defaultdict(list)\n",
    "\n",
    "for domain, data in data_raw.items():\n",
    "    print(f\"Encoding {domain} data...\")\n",
    "    \n",
    "    it = 0\n",
    "    for i in range(0, len(data), BATCH_SIZE):\n",
    "        if it % 100 == 0:\n",
    "            print(it)\n",
    "        \n",
    "        batch = data[i:i+BATCH_SIZE]\n",
    "        data_encoded[domain].extend(get_sent_reps(batch, tokenizer_hf, encoder_hf, LAYER_ID))\n",
    "\n",
    "        it += 1\n",
    "\n",
    "savedir = f\"experiments/en_et_{model_name}/internals\"\n",
    "if not os.path.isdir(savedir):\n",
    "    os.mkdir(savedir)\n",
    "    \n",
    "print(f\"Saving to {savedir}/sent_means_train.pkl\")\n",
    "with open(f'{savedir}/sent_means_train.pkl', 'wb') as f:\n",
    "    pickle.dump(data_encoded, f)"
   ]
  },
  {
   "cell_type": "markdown",
   "metadata": {},
   "source": [
    "# Ecode test and valid"
   ]
  },
  {
   "cell_type": "code",
   "execution_count": 21,
   "metadata": {},
   "outputs": [],
   "source": [
    "def encode_data_dict(split):\n",
    "    # split in 'test', 'valid', 'train'\n",
    "    \n",
    "    data_dict_raw = {}\n",
    "    domain_names = [\"Europarl\", \"OpenSubtitles\", \"JRC-Acquis\", \"EMEA\"]\n",
    "    for domain_name in domain_names:\n",
    "        fn = f\"experiments/fairseq-data-en-et-{domain_name}-ft/{split}.en\"\n",
    "        with open(fn) as f:\n",
    "            data_dict_raw[domain_name] = [l[:-1] for l in f.readlines()]\n",
    "        \n",
    "    \n",
    "    BATCH_SIZE = 512\n",
    "    LAYER_ID = 4\n",
    "\n",
    "    data_dict_encoded = defaultdict(list)\n",
    "\n",
    "    for domain, data in data_dict_raw.items():\n",
    "        print(f\"Encoding {domain} data...\")\n",
    "\n",
    "        it = 0\n",
    "        for i in range(0, len(data), BATCH_SIZE):\n",
    "            if it % 100 == 0:\n",
    "                print(it)\n",
    "\n",
    "            batch = data[i:i+BATCH_SIZE]\n",
    "            data_dict_encoded[domain].extend(get_sent_reps(batch, tokenizer_hf, encoder_hf, LAYER_ID))\n",
    "\n",
    "            it += 1\n",
    "\n",
    "    savedir = f\"experiments/en_et_{model_name}/internals\"\n",
    "    if not os.path.isdir(savedir):\n",
    "        os.mkdir(savedir)\n",
    "    \n",
    "    savefile = f\"{savedir}/sent_means_{split}.pkl\"\n",
    "    print(f\"Saving to {savefile}\")\n",
    "    with open(savefile, 'wb') as f:\n",
    "        pickle.dump(data_dict_encoded, f)\n",
    "    \n",
    "    return data_dict_encoded"
   ]
  },
  {
   "cell_type": "code",
   "execution_count": 22,
   "metadata": {},
   "outputs": [
    {
     "name": "stdout",
     "output_type": "stream",
     "text": [
      "Encoding Europarl data...\n",
      "0\n",
      "Encoding OpenSubtitles data...\n",
      "0\n",
      "Encoding JRC-Acquis data...\n",
      "0\n",
      "Encoding EMEA data...\n",
      "0\n",
      "Saving to experiments/en_et_concat60/internals/sent_means_test.pkl\n"
     ]
    }
   ],
   "source": [
    "encoded_test = encode_data_dict('test')"
   ]
  },
  {
   "cell_type": "code",
   "execution_count": 23,
   "metadata": {},
   "outputs": [
    {
     "name": "stdout",
     "output_type": "stream",
     "text": [
      "Encoding Europarl data...\n",
      "0\n",
      "Encoding OpenSubtitles data...\n",
      "0\n",
      "Encoding JRC-Acquis data...\n",
      "0\n",
      "Encoding EMEA data...\n",
      "0\n",
      "Saving to experiments/en_et_concat60/internals/sent_means_valid.pkl\n"
     ]
    }
   ],
   "source": [
    "encoded_valid = encode_data_dict('valid')"
   ]
  },
  {
   "cell_type": "markdown",
   "metadata": {},
   "source": [
    "# K-means"
   ]
  },
  {
   "cell_type": "code",
   "execution_count": null,
   "metadata": {},
   "outputs": [],
   "source": []
  },
  {
   "cell_type": "code",
   "execution_count": 11,
   "metadata": {},
   "outputs": [],
   "source": [
    "import numpy as np\n",
    "from sklearn.cluster import KMeans\n",
    "import pandas as pd\n",
    "import scipy.stats as ss"
   ]
  },
  {
   "cell_type": "code",
   "execution_count": 12,
   "metadata": {},
   "outputs": [],
   "source": [
    "np.random.seed(21)"
   ]
  },
  {
   "cell_type": "code",
   "execution_count": 13,
   "metadata": {},
   "outputs": [],
   "source": [
    "def cramers_corrected_stat(confusion_matrix):\n",
    "    \"\"\" calculate Cramers V statistic for categorial-categorial association.\n",
    "        uses correction from Bergsma and Wicher, \n",
    "        Journal of the Korean Statistical Society 42 (2013): 323-328\n",
    "    \"\"\"\n",
    "    chi2 = ss.chi2_contingency(confusion_matrix)[0]\n",
    "    n = confusion_matrix.sum().sum()\n",
    "    phi2 = chi2/n\n",
    "    r,k = confusion_matrix.shape\n",
    "    phi2corr = max(0, phi2 - ((k-1)*(r-1))/(n-1))    \n",
    "    rcorr = r - ((r-1)**2)/(n-1)\n",
    "    kcorr = k - ((k-1)**2)/(n-1)\n",
    "    return np.sqrt(phi2corr / min( (kcorr-1), (rcorr-1)))"
   ]
  },
  {
   "cell_type": "code",
   "execution_count": 14,
   "metadata": {},
   "outputs": [],
   "source": [
    "all_encoded = []\n",
    "all_labels = []\n",
    "for d, v in data_encoded.items():\n",
    "    all_encoded.extend(data_encoded[d])\n",
    "    all_labels.extend([d] * len(data_encoded[d]))    "
   ]
  },
  {
   "cell_type": "code",
   "execution_count": 15,
   "metadata": {},
   "outputs": [],
   "source": [
    "all_encoded = np.array(all_encoded)\n",
    "all_labels = np.array(all_labels)"
   ]
  },
  {
   "cell_type": "code",
   "execution_count": 16,
   "metadata": {},
   "outputs": [
    {
     "name": "stdout",
     "output_type": "stream",
     "text": [
      "Corr k: 0.6914882448939277\n",
      "col_0               0       1       2       3\n",
      "row_0                                        \n",
      "EMEA           111514    2120  284892   12014\n",
      "Europarl         6714  449954    8376   35122\n",
      "JRC-Acquis      97537   53206  346033    3244\n",
      "OpenSubtitles   52831   20666    1827  425552\n",
      "Saving to experiments/en_et_concat60/internals/kmeans_train.pkl\n",
      "CPU times: user 1min 35s, sys: 568 ms, total: 1min 36s\n",
      "Wall time: 19.8 s\n"
     ]
    }
   ],
   "source": [
    "%%time\n",
    "\n",
    "#indices = np.arange(all_encoded.shape[0])\n",
    "#np.random.shuffle(indices)\n",
    "\n",
    "#hiddens_shuff = all_encoded[indices]\n",
    "#labels_shuff = all_labels[indices]\n",
    "\n",
    "kmeans = KMeans(n_clusters=4, random_state=0, n_init=1).fit(all_encoded)\n",
    "\n",
    "conf_matrix = pd.crosstab(all_labels, kmeans.labels_)\n",
    "corr_k = cramers_corrected_stat(conf_matrix)\n",
    "\n",
    "print(f\"Corr k: {corr_k}\")\n",
    "print(conf_matrix)\n",
    "\n",
    "savedir = f\"experiments/en_et_{model_name}/internals\"\n",
    "if not os.path.isdir(savedir):\n",
    "    os.mkdir(savedir)\n",
    "    \n",
    "    \n",
    "print(f\"Saving to {savedir}/kmeans_train.pkl\")\n",
    "with open(f'{savedir}/kmeans_train.pkl', 'wb') as f:\n",
    "    pickle.dump(kmeans, f)\n",
    "\n",
    "i = 0\n",
    "for k,v in data_raw.items():\n",
    "    fn = f\"nmt_labels-{k}.txt\"\n",
    "    np.savetxt(f\"{savedir}/{fn}\", kmeans.labels_[i:i+len(v)].astype(int), fmt=\"%i\")\n",
    "    i += len(v)"
   ]
  },
  {
   "cell_type": "code",
   "execution_count": 17,
   "metadata": {},
   "outputs": [],
   "source": [
    "import seaborn as sns"
   ]
  },
  {
   "cell_type": "code",
   "execution_count": 18,
   "metadata": {},
   "outputs": [
    {
     "data": {
      "text/plain": [
       "<AxesSubplot:xlabel='col_0', ylabel='row_0'>"
      ]
     },
     "execution_count": 18,
     "metadata": {},
     "output_type": "execute_result"
    },
    {
     "data": {
      "image/png": "[encoded data removed]",
      "text/plain": [
       "<Figure size 432x288 with 1 Axes>"
      ]
     },
     "metadata": {
      "needs_background": "light"
     },
     "output_type": "display_data"
    }
   ],
   "source": [
    "sns.heatmap(conf_matrix,\n",
    "            cmap=\"YlGnBu\", annot=True, cbar=False)"
   ]
  },
  {
   "cell_type": "markdown",
   "metadata": {},
   "source": [
    "# Bert sent clusters"
   ]
  },
  {
   "cell_type": "code",
   "execution_count": 19,
   "metadata": {},
   "outputs": [],
   "source": [
    "labels_bert = {}\n",
    "domain_names = [\"Europarl\", \"OpenSubtitles\", \"JRC-Acquis\", \"EMEA\"]\n",
    "for domain_name in domain_names:\n",
    "    fn = f\"experiments/data-clust/clusters/cl-{domain_name}.en-et.docs.train.clusters_sent_4.txt\" # TODO: change to train\n",
    "    with open(fn) as f:\n",
    "        labels_bert[domain_name] = [int(l[:-1]) for l in f.readlines()]"
   ]
  },
  {
   "cell_type": "code",
   "execution_count": 20,
   "metadata": {},
   "outputs": [],
   "source": [
    "labels_bert_all = []\n",
    "labels_bert_all_true = []\n",
    "for k,v in labels_bert.items():\n",
    "    labels_bert_all.extend(v)\n",
    "    labels_bert_all_true.extend([k] * len(v))"
   ]
  },
  {
   "cell_type": "code",
   "execution_count": 21,
   "metadata": {},
   "outputs": [
    {
     "data": {
      "text/plain": [
       "['Europarl', 'Europarl']"
      ]
     },
     "execution_count": 21,
     "metadata": {},
     "output_type": "execute_result"
    }
   ],
   "source": [
    "labels_bert_all_true[0:2]"
   ]
  },
  {
   "cell_type": "code",
   "execution_count": 22,
   "metadata": {},
   "outputs": [
    {
     "name": "stdout",
     "output_type": "stream",
     "text": [
      "0.24168047830449288\n",
      "col_0               0       1      2       3\n",
      "row_0                                       \n",
      "EMEA            72707  140991  39598  157244\n",
      "Europarl       166334  177192  56586  100054\n",
      "JRC-Acquis     162534  163134  29920  144432\n",
      "OpenSubtitles   46245   50394  84391  319846\n"
     ]
    }
   ],
   "source": [
    "conf_matrix = pd.crosstab(np.array(labels_bert_all_true), np.array(labels_bert_all))\n",
    "corr_k = cramers_corrected_stat(conf_matrix)\n",
    "print(corr_k)\n",
    "print(conf_matrix)"
   ]
  },
  {
   "cell_type": "code",
   "execution_count": 23,
   "metadata": {},
   "outputs": [
    {
     "data": {
      "text/plain": [
       "<AxesSubplot:xlabel='col_0', ylabel='row_0'>"
      ]
     },
     "execution_count": 23,
     "metadata": {},
     "output_type": "execute_result"
    },
    {
     "data": {
      "image/png": "[encoded data removed]",
      "text/plain": [
       "<Figure size 432x288 with 1 Axes>"
      ]
     },
     "metadata": {
      "needs_background": "light"
     },
     "output_type": "display_data"
    }
   ],
   "source": [
    "sns.heatmap(conf_matrix,\n",
    "            cmap=\"YlGnBu\", annot=True, cbar=False)"
   ]
  },
  {
   "cell_type": "markdown",
   "metadata": {},
   "source": [
    "# BERT doc clusters"
   ]
  },
  {
   "cell_type": "code",
   "execution_count": 24,
   "metadata": {},
   "outputs": [],
   "source": [
    "labels_bert = {}\n",
    "domain_names = [\"Europarl\", \"OpenSubtitles\", \"JRC-Acquis\", \"EMEA\"]\n",
    "for domain_name in domain_names:\n",
    "    fn = f\"experiments/data-clust/clusters/cl-{domain_name}.en-et.docs.train.clusters_doc_4.txt\" # TODO: change to train\n",
    "    with open(fn) as f:\n",
    "        labels_bert[domain_name] = [int(l[:-1]) for l in f.readlines()]"
   ]
  },
  {
   "cell_type": "code",
   "execution_count": 25,
   "metadata": {},
   "outputs": [],
   "source": [
    "labels_bert_all = []\n",
    "labels_bert_all_true = []\n",
    "for k,v in labels_bert.items():\n",
    "    labels_bert_all.extend(v)\n",
    "    labels_bert_all_true.extend([k] * len(v))"
   ]
  },
  {
   "cell_type": "code",
   "execution_count": 26,
   "metadata": {},
   "outputs": [
    {
     "name": "stdout",
     "output_type": "stream",
     "text": [
      "0.8089680719230101\n",
      "col_0               0       1       2       3\n",
      "row_0                                        \n",
      "EMEA            42870  344373    3200   20097\n",
      "Europarl          521    3372  493821    2452\n",
      "JRC-Acquis     279334  152902   61959    5825\n",
      "OpenSubtitles    1001    9881     899  489095\n"
     ]
    }
   ],
   "source": [
    "conf_matrix = pd.crosstab(np.array(labels_bert_all_true), np.array(labels_bert_all))\n",
    "corr_k = cramers_corrected_stat(conf_matrix)\n",
    "print(corr_k)\n",
    "print(conf_matrix)"
   ]
  },
  {
   "cell_type": "code",
   "execution_count": 27,
   "metadata": {},
   "outputs": [
    {
     "data": {
      "text/plain": [
       "<AxesSubplot:xlabel='col_0', ylabel='row_0'>"
      ]
     },
     "execution_count": 27,
     "metadata": {},
     "output_type": "execute_result"
    },
    {
     "data": {
      "image/png": "[encoded data removed]",
      "text/plain": [
       "<Figure size 432x288 with 1 Axes>"
      ]
     },
     "metadata": {
      "needs_background": "light"
     },
     "output_type": "display_data"
    }
   ],
   "source": [
    "sns.heatmap(conf_matrix,\n",
    "            cmap=\"YlGnBu\", annot=True, cbar=False)"
   ]
  },
  {
   "cell_type": "markdown",
   "metadata": {},
   "source": [
    "# Rand clusters"
   ]
  },
  {
   "cell_type": "code",
   "execution_count": 28,
   "metadata": {},
   "outputs": [],
   "source": [
    "from random import sample"
   ]
  },
  {
   "cell_type": "code",
   "execution_count": 29,
   "metadata": {},
   "outputs": [],
   "source": [
    "sample??"
   ]
  },
  {
   "cell_type": "code",
   "execution_count": 30,
   "metadata": {},
   "outputs": [],
   "source": [
    "labels_rand = {}\n",
    "domain_names = [\"Europarl\", \"OpenSubtitles\", \"JRC-Acquis\", \"EMEA\"]\n",
    "for domain_name in domain_names:\n",
    "    fn = f\"experiments/data-clust-new/clusters/cl-{domain_name}.en-et.docs.train.clusters_doc_4.txt\" # TODO: change to train\n",
    "    with open(fn) as f:\n",
    "        labels_rand[domain_name] = [sample([0,1,2,3], 1)[0] for l in f.readlines()]"
   ]
  },
  {
   "cell_type": "code",
   "execution_count": 31,
   "metadata": {},
   "outputs": [],
   "source": [
    "labels_rand_all = []\n",
    "labels_rand_all_true = []\n",
    "for k,v in labels_rand.items():\n",
    "    labels_rand_all.extend(v)\n",
    "    labels_rand_all_true.extend([k] * len(v))"
   ]
  },
  {
   "cell_type": "code",
   "execution_count": 32,
   "metadata": {},
   "outputs": [
    {
     "name": "stdout",
     "output_type": "stream",
     "text": [
      "0.00031535624553715905\n",
      "col_0               0       1       2       3\n",
      "row_0                                        \n",
      "EMEA           101931  102400  103079  103130\n",
      "Europarl       125102  125304  124768  124992\n",
      "JRC-Acquis     125005  124718  124910  125387\n",
      "OpenSubtitles  125080  125019  125244  125533\n"
     ]
    }
   ],
   "source": [
    "conf_matrix = pd.crosstab(np.array(labels_rand_all_true), np.array(labels_rand_all))\n",
    "corr_k = cramers_corrected_stat(conf_matrix)\n",
    "print(corr_k)\n",
    "print(conf_matrix)"
   ]
  },
  {
   "cell_type": "code",
   "execution_count": 33,
   "metadata": {},
   "outputs": [
    {
     "data": {
      "text/plain": [
       "<AxesSubplot:xlabel='col_0', ylabel='row_0'>"
      ]
     },
     "execution_count": 33,
     "metadata": {},
     "output_type": "execute_result"
    },
    {
     "data": {
      "image/png": "[encoded data removed]",
      "text/plain": [
       "<Figure size 432x288 with 1 Axes>"
      ]
     },
     "metadata": {
      "needs_background": "light"
     },
     "output_type": "display_data"
    }
   ],
   "source": [
    "sns.heatmap(conf_matrix,\n",
    "            cmap=\"YlGnBu\", annot=True, cbar=False)"
   ]
  },
  {
   "cell_type": "code",
   "execution_count": 34,
   "metadata": {},
   "outputs": [],
   "source": [
    "i = 0\n",
    "for k,v in data_raw.items():\n",
    "    fn = f\"rand_labels-{k}.txt\"\n",
    "    np.savetxt(f\"{savedir}/{fn}\", np.array(labels_rand_all)[i:i+len(v)].astype(int), fmt=\"%i\")\n",
    "    i += len(v)"
   ]
  },
  {
   "cell_type": "code",
   "execution_count": null,
   "metadata": {},
   "outputs": [],
   "source": []
  }
 ],
 "metadata": {
  "kernelspec": {
   "display_name": "Python (da)",
   "language": "python",
   "name": "da"
  },
  "language_info": {
   "codemirror_mode": {
    "name": "ipython",
    "version": 3
   },
   "file_extension": ".py",
   "mimetype": "text/x-python",
   "name": "python",
   "nbconvert_exporter": "python",
   "pygments_lexer": "ipython3",
   "version": "3.8.5"
  }
 },
 "nbformat": 4,
 "nbformat_minor": 2
}
