{
 "cells": [
  {
   "cell_type": "code",
   "execution_count": 1,
   "metadata": {},
   "outputs": [],
   "source": [
    "%load_ext autoreload\n",
    "%autoreload 2"
   ]
  },
  {
   "cell_type": "code",
   "execution_count": 2,
   "metadata": {},
   "outputs": [],
   "source": [
    "import os\n",
    "from os.path import basename, dirname\n",
    "from shutil import copyfile\n",
    "\n",
    "import json\n",
    "import pickle\n",
    "from collections import OrderedDict\n",
    "\n",
    "import torch"
   ]
  },
  {
   "cell_type": "code",
   "execution_count": 3,
   "metadata": {},
   "outputs": [],
   "source": [
    "os.chdir(\"..\")"
   ]
  },
  {
   "cell_type": "code",
   "execution_count": 4,
   "metadata": {},
   "outputs": [],
   "source": [
    "from da.fsmt.modeling_fsmt import FSMTForConditionalGeneration\n",
    "from da.fsmt.tokenization_fsmt import FSMTTokenizer"
   ]
  },
  {
   "cell_type": "code",
   "execution_count": 5,
   "metadata": {},
   "outputs": [],
   "source": [
    "from types import MethodType\n",
    "\n",
    "from da.greedy_search_interpret import greedy_search_interpret"
   ]
  },
  {
   "cell_type": "code",
   "execution_count": 6,
   "metadata": {},
   "outputs": [],
   "source": [
    "def encode_sentence_tokens(src):\n",
    "    # tok\n",
    "    src = tokenizer_hf.encode_plus(\n",
    "        src,\n",
    "        padding=\"longest\", \n",
    "        return_tensors=\"pt\",\n",
    "        return_token_type_ids=False,\n",
    "        return_attention_mask=True\n",
    "    )\n",
    "    # res\n",
    "    for k, v in src.items():\n",
    "        src[k] = v.to(model_hf.device)\n",
    "    \n",
    "    res = model_hf.generate(**src,\n",
    "                       #return_dict=True,\n",
    "                       output_hidden_states=True,\n",
    "                       output_attentions=True,\n",
    "                       do_sample=False,\n",
    "                       num_beams=1)\n",
    "    \n",
    "    he = [r.detach().cpu().numpy() for r in res['encoder_hidden_states']]\n",
    "    hd = [r.detach().cpu().numpy() for r in res['decoder_hidden_states']]\n",
    "\n",
    "    return he + hd"
   ]
  },
  {
   "cell_type": "code",
   "execution_count": 7,
   "metadata": {},
   "outputs": [],
   "source": [
    "NUM_SENTENCES=300"
   ]
  },
  {
   "cell_type": "code",
   "execution_count": 8,
   "metadata": {},
   "outputs": [
    {
     "name": "stdout",
     "output_type": "stream",
     "text": [
      "\n",
      "Loading concat1 model\n",
      "Encoding Europarl data...\n",
      "Encoding OpenSubtitles data...\n",
      "Encoding JRC-Acquis data...\n",
      "Encoding EMEA data...\n",
      "Saving to experiments/en_et_concat1/internals/data_encoded300.pkl...\n",
      "CPU times: user 3min 26s, sys: 1.79 s, total: 3min 27s\n",
      "Wall time: 3min 26s\n"
     ]
    }
   ],
   "source": [
    "%%time\n",
    "\n",
    "domain_names = [\"Europarl\", \"OpenSubtitles\", \"JRC-Acquis\", \"EMEA\"]\n",
    "\n",
    "for main_name in ['concat1']:\n",
    "    print()\n",
    "    print(f\"Loading {main_name} model\")\n",
    "    \n",
    "    hf_dir = f\"experiments/en_et_{main_name}/hf\"\n",
    "    tokenizer_hf = FSMTTokenizer.from_pretrained(hf_dir)\n",
    "    model_hf = FSMTForConditionalGeneration.from_pretrained(hf_dir)\n",
    "    model_hf = model_hf.cuda()\n",
    "    model_hf.greedy_search = MethodType(greedy_search_interpret, model_hf)\n",
    "    \n",
    "    valid_files = {}\n",
    "\n",
    "    for domain_name in domain_names:\n",
    "        fn = f\"experiments/fairseq-data-en-et-{domain_name}-ft/valid.en\"\n",
    "        with open(fn) as f:\n",
    "            valid_files[domain_name] = [l[:-2] for l in f.readlines()]\n",
    "            \n",
    "    data_encoded = {}\n",
    "\n",
    "    for domain, data in valid_files.items():\n",
    "        print(f\"Encoding {domain} data...\")\n",
    "        data_encoded[domain] = [encode_sentence_tokens(s) for s in data[0:NUM_SENTENCES]]\n",
    "        \n",
    "    savedir = f\"experiments/en_et_{main_name}/internals\"\n",
    "    \n",
    "    if not os.path.isdir(savedir):\n",
    "        os.mkdir(savedir)\n",
    "    \n",
    "    print(f\"Saving to {savedir}/data_encoded{NUM_SENTENCES}.pkl...\")\n",
    "    with open(f'{savedir}/data_encoded{NUM_SENTENCES}.pkl', 'wb') as f:\n",
    "        pickle.dump(data_encoded, f)"
   ]
  }
 ],
 "metadata": {
  "kernelspec": {
   "display_name": "Python (da)",
   "language": "python",
   "name": "da"
  },
  "language_info": {
   "codemirror_mode": {
    "name": "ipython",
    "version": 3
   },
   "file_extension": ".py",
   "mimetype": "text/x-python",
   "name": "python",
   "nbconvert_exporter": "python",
   "pygments_lexer": "ipython3",
   "version": "3.8.5"
  }
 },
 "nbformat": 4,
 "nbformat_minor": 2
}
