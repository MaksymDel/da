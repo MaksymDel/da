{
 "cells": [
  {
   "cell_type": "code",
   "execution_count": 1,
   "metadata": {},
   "outputs": [],
   "source": [
    "%load_ext autoreload\n",
    "%autoreload 2"
   ]
  },
  {
   "cell_type": "code",
   "execution_count": 2,
   "metadata": {},
   "outputs": [],
   "source": [
    "import torch"
   ]
  },
  {
   "cell_type": "code",
   "execution_count": 3,
   "metadata": {},
   "outputs": [],
   "source": [
    "import os\n",
    "\n",
    "os.chdir(\"..\")"
   ]
  },
  {
   "cell_type": "code",
   "execution_count": 4,
   "metadata": {},
   "outputs": [],
   "source": [
    "from fairseq.models.transformer import TransformerModel"
   ]
  },
  {
   "cell_type": "code",
   "execution_count": 5,
   "metadata": {},
   "outputs": [],
   "source": [
    "source_data_path = \"experiments/doc-indices/sp-cl-Europarl.en-et.docs.test.both\"\n",
    "target_data_path = \"experiments/doc-indices/sp-cl-Europarl.en-et.docs.test.both\"\n",
    "cluster_ids_path = \"experiments/en_et_concat60/nmt-clusters-sent/Europarl.test.clust.nmt.sent\"\n",
    "\n",
    "experts_id2path = {\n",
    "    \"0\": \"experiments/en_et_Europarl_ft\",\n",
    "    \"1\": \"experiments/en_et_Europarl_ft\",\n",
    "    \"2\": \"experiments/en_et_Europarl_ft\",\n",
    "    \"3\": \"experiments/en_et_Europarl_ft\"\n",
    "}"
   ]
  },
  {
   "cell_type": "code",
   "execution_count": 9,
   "metadata": {},
   "outputs": [],
   "source": [
    "id2model = {}\n",
    "for id, path in experts_id2path.items():\n",
    "    model = TransformerModel.from_pretrained(path, 'checkpoint100.pt', 'experiments/bin-data-en-et-Europarl-ft/')\n",
    "    model.cuda()\n",
    "    model.eval()\n",
    "    id2model[id] = model"
   ]
  },
  {
   "cell_type": "code",
   "execution_count": 10,
   "metadata": {},
   "outputs": [],
   "source": [
    "sources = []\n",
    "targets = []\n",
    "doc_ids = []\n",
    "with open(source_data_path) as both: \n",
    "    for line in both:\n",
    "        doc_id, src, tgt = line.strip().split('\\t')\n",
    "        doc_ids.append(doc_id)\n",
    "        sources.append(src)\n",
    "        targets.append(tgt) \n",
    "        \n",
    "cluster_ids = []\n",
    "with open(cluster_ids_path) as f: \n",
    "    for line in f:\n",
    "        cluster_ids.append(line.strip())\n"
   ]
  },
  {
   "cell_type": "code",
   "execution_count": 11,
   "metadata": {},
   "outputs": [
    {
     "name": "stdout",
     "output_type": "stream",
     "text": [
      "0/3157 sentences translated\n",
      "100/3157 sentences translated\n",
      "200/3157 sentences translated\n",
      "300/3157 sentences translated\n",
      "400/3157 sentences translated\n",
      "500/3157 sentences translated\n",
      "600/3157 sentences translated\n",
      "700/3157 sentences translated\n",
      "800/3157 sentences translated\n",
      "900/3157 sentences translated\n",
      "1000/3157 sentences translated\n",
      "1100/3157 sentences translated\n",
      "1200/3157 sentences translated\n",
      "1300/3157 sentences translated\n",
      "1400/3157 sentences translated\n",
      "1500/3157 sentences translated\n",
      "1600/3157 sentences translated\n",
      "1700/3157 sentences translated\n",
      "1800/3157 sentences translated\n",
      "1900/3157 sentences translated\n",
      "2000/3157 sentences translated\n",
      "2100/3157 sentences translated\n",
      "2200/3157 sentences translated\n",
      "2300/3157 sentences translated\n",
      "2400/3157 sentences translated\n",
      "2500/3157 sentences translated\n",
      "2600/3157 sentences translated\n",
      "2700/3157 sentences translated\n",
      "2800/3157 sentences translated\n",
      "2900/3157 sentences translated\n",
      "3000/3157 sentences translated\n",
      "3100/3157 sentences translated\n",
      "CPU times: user 8min 10s, sys: 12.1 s, total: 8min 23s\n",
      "Wall time: 8min 22s\n"
     ]
    }
   ],
   "source": [
    "%%time\n",
    "\n",
    "translations = []\n",
    "i = 0\n",
    "for id, src in zip(cluster_ids, sources):\n",
    "    \n",
    "    model = id2model[id] \n",
    "\n",
    "#     for k, v in src.items():\n",
    "#         src[k] = v.to(model.device)\n",
    "\n",
    "    with torch.no_grad():\n",
    "        hyp = model.translate(src, beam=5)\n",
    "\n",
    "    translations.append(hyp)\n",
    "\n",
    "    if i % 100 == 0:\n",
    "        print(f\"{i}/{len(sources)} sentences translated\")\n",
    "\n",
    "    i += 1"
   ]
  },
  {
   "cell_type": "code",
   "execution_count": 12,
   "metadata": {},
   "outputs": [],
   "source": [
    "from sacrebleu import corpus_bleu as _corpus_bleu"
   ]
  },
  {
   "cell_type": "code",
   "execution_count": 13,
   "metadata": {},
   "outputs": [],
   "source": [
    "def corpus_bleu(sys_stream, ref_streams):\n",
    "    bleu = _corpus_bleu(sys_stream, ref_streams, tokenize=\"none\")\n",
    "    return bleu.score"
   ]
  },
  {
   "cell_type": "code",
   "execution_count": 14,
   "metadata": {},
   "outputs": [],
   "source": [
    "def detok(s):\n",
    "    return ''.join(s.split()).replace('▁', ' ').strip()"
   ]
  },
  {
   "cell_type": "code",
   "execution_count": 21,
   "metadata": {},
   "outputs": [],
   "source": [
    "from sentencepiece import SentencePieceProcessor"
   ]
  },
  {
   "cell_type": "code",
   "execution_count": 24,
   "metadata": {},
   "outputs": [
    {
     "data": {
      "text/plain": [
       "<sentencepiece.SentencePieceProcessor; proxy of <Swig Object of type 'sentencepiece::SentencePieceProcessor *' at 0x7fc031a691e0> >"
      ]
     },
     "execution_count": 24,
     "metadata": {},
     "output_type": "execute_result"
    }
   ],
   "source": [
    "SentencePieceProcessor(\"data-prep/preproc-models/syscl-en-et.model\")"
   ]
  },
  {
   "cell_type": "code",
   "execution_count": 23,
   "metadata": {},
   "outputs": [
    {
     "data": {
      "text/plain": [
       "'Andsime selleks aruteluks selle tähtsuse tõttu palju aega ja loodame, et meil õnnestub jätkata üle meie aja, et lõpetada infotund.'"
      ]
     },
     "execution_count": 23,
     "metadata": {},
     "output_type": "execute_result"
    }
   ],
   "source": [
    "targets_detok[2]"
   ]
  },
  {
   "cell_type": "code",
   "execution_count": 15,
   "metadata": {},
   "outputs": [],
   "source": [
    "targets_detok = [detok(t) for t in targets]\n",
    "hyps_detok = [detok(t) for t in translations]"
   ]
  },
  {
   "cell_type": "code",
   "execution_count": 16,
   "metadata": {},
   "outputs": [
    {
     "data": {
      "text/plain": [
       "24.03040001067341"
      ]
     },
     "execution_count": 16,
     "metadata": {},
     "output_type": "execute_result"
    }
   ],
   "source": [
    "corpus_bleu(targets_detok, [hyps_detok])"
   ]
  },
  {
   "cell_type": "code",
   "execution_count": 17,
   "metadata": {},
   "outputs": [
    {
     "data": {
      "text/plain": [
       "32.12108793535469"
      ]
     },
     "execution_count": 17,
     "metadata": {},
     "output_type": "execute_result"
    }
   ],
   "source": [
    "corpus_bleu(targets, [translations])"
   ]
  },
  {
   "cell_type": "code",
   "execution_count": 18,
   "metadata": {},
   "outputs": [
    {
     "data": {
      "text/plain": [
       "24.03040001067341"
      ]
     },
     "execution_count": 18,
     "metadata": {},
     "output_type": "execute_result"
    }
   ],
   "source": [
    "corpus_bleu(targets_detok, [hyps_detok])"
   ]
  },
  {
   "cell_type": "code",
   "execution_count": 19,
   "metadata": {},
   "outputs": [
    {
     "data": {
      "text/plain": [
       "32.12108793535469"
      ]
     },
     "execution_count": 19,
     "metadata": {},
     "output_type": "execute_result"
    }
   ],
   "source": [
    "corpus_bleu(targets, [translations])"
   ]
  },
  {
   "cell_type": "code",
   "execution_count": 52,
   "metadata": {},
   "outputs": [],
   "source": [
    "basename = source_data_path.split('/')[-1]\n",
    "with open(f\"hypothesis/hyp-{basename}.bpe.et\", 'w') as f:\n",
    "    for s in translated:\n",
    "        f.write(f\"{s}\\n\")"
   ]
  },
  {
   "cell_type": "code",
   "execution_count": null,
   "metadata": {},
   "outputs": [],
   "source": []
  },
  {
   "cell_type": "code",
   "execution_count": 18,
   "metadata": {},
   "outputs": [],
   "source": [
    "a = []\n",
    "with open(\"experiments/fairseq-data-en-et-Europarl-ft/test.et\") as f:\n",
    "    for l in f:\n",
    "        a.append(l.strip())\n",
    "        "
   ]
  },
  {
   "cell_type": "code",
   "execution_count": 19,
   "metadata": {},
   "outputs": [],
   "source": [
    "b = []\n",
    "with open(\"gr-hyp.europarl.et\") as f:\n",
    "    for l in f:\n",
    "        b.append(l.strip())\n",
    "        "
   ]
  },
  {
   "cell_type": "code",
   "execution_count": 20,
   "metadata": {},
   "outputs": [
    {
     "data": {
      "text/plain": [
       "31.286223180045237"
      ]
     },
     "execution_count": 20,
     "metadata": {},
     "output_type": "execute_result"
    }
   ],
   "source": [
    "corpus_bleu(a, [b])"
   ]
  },
  {
   "cell_type": "code",
   "execution_count": 22,
   "metadata": {},
   "outputs": [],
   "source": [
    "da = [detok(l) for l in a]\n",
    "db = [detok(l) for l in b]"
   ]
  },
  {
   "cell_type": "code",
   "execution_count": 23,
   "metadata": {},
   "outputs": [
    {
     "data": {
      "text/plain": [
       "23.395436862030135"
      ]
     },
     "execution_count": 23,
     "metadata": {},
     "output_type": "execute_result"
    }
   ],
   "source": [
    "corpus_bleu(da, [db])"
   ]
  },
  {
   "cell_type": "code",
   "execution_count": null,
   "metadata": {},
   "outputs": [],
   "source": []
  }
 ],
 "metadata": {
  "kernelspec": {
   "display_name": "Python (da)",
   "language": "python",
   "name": "da"
  },
  "language_info": {
   "codemirror_mode": {
    "name": "ipython",
    "version": 3
   },
   "file_extension": ".py",
   "mimetype": "text/x-python",
   "name": "python",
   "nbconvert_exporter": "python",
   "pygments_lexer": "ipython3",
   "version": "3.8.5"
  }
 },
 "nbformat": 4,
 "nbformat_minor": 2
}
