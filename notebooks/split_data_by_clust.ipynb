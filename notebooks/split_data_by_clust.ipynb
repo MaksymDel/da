{
 "cells": [
  {
   "cell_type": "code",
   "execution_count": 1,
   "metadata": {},
   "outputs": [],
   "source": [
    "%load_ext autoreload\n",
    "%autoreload 2"
   ]
  },
  {
   "cell_type": "code",
   "execution_count": 2,
   "metadata": {},
   "outputs": [],
   "source": [
    "import os\n",
    "from os.path import basename, dirname\n",
    "from shutil import copyfile\n",
    "\n",
    "import json\n",
    "import pickle\n",
    "from collections import OrderedDict\n",
    "\n",
    "import torch"
   ]
  },
  {
   "cell_type": "code",
   "execution_count": 4,
   "metadata": {},
   "outputs": [],
   "source": [
    "from sklearn.cluster import KMeans\n",
    "import pandas as pd\n",
    "import seaborn as sns\n",
    "import matplotlib.pyplot as plt\n",
    "import numpy as np"
   ]
  },
  {
   "cell_type": "code",
   "execution_count": 5,
   "metadata": {},
   "outputs": [],
   "source": [
    "os.chdir(\"..\")"
   ]
  },
  {
   "cell_type": "code",
   "execution_count": 21,
   "metadata": {},
   "outputs": [],
   "source": [
    "from collections import defaultdict"
   ]
  },
  {
   "cell_type": "code",
   "execution_count": 6,
   "metadata": {},
   "outputs": [
    {
     "data": {
      "text/plain": [
       "'/home/maksym/research/da'"
      ]
     },
     "execution_count": 6,
     "metadata": {},
     "output_type": "execute_result"
    }
   ],
   "source": [
    "pwd"
   ]
  },
  {
   "cell_type": "markdown",
   "metadata": {},
   "source": [
    "# Split"
   ]
  },
  {
   "cell_type": "code",
   "execution_count": 58,
   "metadata": {},
   "outputs": [],
   "source": [
    "def split(langpair, exp):\n",
    "    l1, l2 = langpair.split(\"-\")\n",
    "\n",
    "    if exp == \"bert\":\n",
    "        model_name = \"xlm-roberta-base\"\n",
    "    elif exp == \"nmt\":\n",
    "        model_name = \"concat60\"\n",
    "    else:\n",
    "        raise ValueError(f\"exp\")\n",
    "    \n",
    "    for level in [\"sent\", \"doc\"]:\n",
    "\n",
    "        clust_folder = f\"experiments/{l1}_{l2}_{model_name}/{exp}-clusters-{level}\"\n",
    "        data_folder = \"experiments/fairseq-data-en-et-base\"\n",
    "\n",
    "        for split in [\"test\", \"valid\", \"train\"]:\n",
    "            if split == \"valid\":\n",
    "                split2 = \"dev\"\n",
    "            else:\n",
    "                split2 = split\n",
    "\n",
    "            fnc = f\"{clust_folder}/base.{split2}.clust.{exp}.{level}\"\n",
    "\n",
    "            with open(fnc) as f:\n",
    "                clust = f.read().splitlines()\n",
    "            with open(f\"{data_folder}/{split}.{l1}\") as f:\n",
    "                d1 = f.read().splitlines()\n",
    "            with open(f\"{data_folder}/{split}.{l2}\") as f:\n",
    "                d2 = f.read().splitlines()\n",
    "            assert len(clust) == len(d1)\n",
    "\n",
    "            d1_split = defaultdict(list)\n",
    "            d2_split = defaultdict(list)\n",
    "\n",
    "            for i, c in enumerate(clust):\n",
    "                d1_split[c].append(d1[i])\n",
    "                d2_split[c].append(d2[i])\n",
    "\n",
    "\n",
    "            dirout_base = f\"{clust_folder}/data\"\n",
    "            os.makedirs(dirout_base, exist_ok=True)\n",
    "\n",
    "\n",
    "            for k, v in d1_split.items():\n",
    "                dirout = f\"{dirout_base}/{k}\"\n",
    "                os.makedirs(dirout, exist_ok=True)\n",
    "\n",
    "                with open(f\"{dirout}/{split}.{l1}\", \"w\") as f:\n",
    "                    f.write(\"\\n\".join(map(str, v)))\n",
    "\n",
    "\n",
    "            for k, v in d2_split.items():\n",
    "                dirout = f\"{dirout_base}/{k}\"\n",
    "                os.makedirs(dirout, exist_ok=True)\n",
    "\n",
    "                with open(f\"{dirout}/{split}.{l2}\", \"w\") as f:\n",
    "                        f.write(\"\\n\".join(map(str, v)))\n",
    "    "
   ]
  },
  {
   "cell_type": "code",
   "execution_count": null,
   "metadata": {},
   "outputs": [],
   "source": [
    "split(\"en-et\", \"nmt\")"
   ]
  },
  {
   "cell_type": "code",
   "execution_count": null,
   "metadata": {},
   "outputs": [],
   "source": [
    "split(\"en-et\", \"bert\")"
   ]
  }
 ],
 "metadata": {
  "kernelspec": {
   "display_name": "Python (da)",
   "language": "python",
   "name": "da"
  },
  "language_info": {
   "codemirror_mode": {
    "name": "ipython",
    "version": 3
   },
   "file_extension": ".py",
   "mimetype": "text/x-python",
   "name": "python",
   "nbconvert_exporter": "python",
   "pygments_lexer": "ipython3",
   "version": "3.8.5"
  }
 },
 "nbformat": 4,
 "nbformat_minor": 2
}
