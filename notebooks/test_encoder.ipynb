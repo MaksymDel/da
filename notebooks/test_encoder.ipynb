{
 "cells": [
  {
   "cell_type": "code",
   "execution_count": 1,
   "metadata": {},
   "outputs": [],
   "source": [
    "%load_ext autoreload\n",
    "%autoreload 2\n",
    "\n",
    "import os\n",
    "from os.path import basename, dirname\n",
    "from shutil import copyfile\n",
    "\n",
    "import json\n",
    "import pickle\n",
    "from collections import OrderedDict\n",
    "\n",
    "import torch\n",
    "\n",
    "os.chdir(\"..\")\n",
    "\n",
    "from da.fsmt.modeling_fsmt import FSMTForConditionalGeneration\n",
    "from da.fsmt.tokenization_fsmt import FSMTTokenizer\n",
    "\n",
    "from types import MethodType\n",
    "\n",
    "from da.greedy_search_interpret import greedy_search_interpret"
   ]
  },
  {
   "cell_type": "code",
   "execution_count": 2,
   "metadata": {},
   "outputs": [],
   "source": [
    "main_name = \"concat60\"\n",
    "hf_dir = f\"experiments/en_et_{main_name}/hf\"\n",
    "\n",
    "tokenizer_hf = FSMTTokenizer.from_pretrained(hf_dir)\n",
    "model_hf = FSMTForConditionalGeneration.from_pretrained(hf_dir)\n",
    "model_hf = model_hf.cuda()\n",
    "model_hf.greedy_search = MethodType(greedy_search_interpret, model_hf)"
   ]
  },
  {
   "cell_type": "code",
   "execution_count": 3,
   "metadata": {},
   "outputs": [],
   "source": [
    "data = [\"▁how ▁would ▁you ▁like ▁that ▁done ▁to ▁you ?\", \n",
    "\"▁- ▁if ▁you ▁have ▁ever ▁had ▁chemotherapy ▁with ▁a ▁drug ▁called ▁doxorubicin ▁or ▁a ▁drug ▁related ▁to\", \n",
    "\"▁it ▁is ▁one ▁of ▁the ▁most ▁difficult ▁jobs ▁in ▁the ▁European ▁Union ▁that ▁he ▁has ▁to ▁do .\"] \n"
   ]
  },
  {
   "cell_type": "code",
   "execution_count": 4,
   "metadata": {},
   "outputs": [],
   "source": [
    "data_tok = tokenizer_hf.batch_encode_plus(\n",
    "        data,\n",
    "        padding=\"longest\", \n",
    "        return_tensors=\"pt\",\n",
    "        return_token_type_ids=False,\n",
    "        return_attention_mask=True\n",
    "    )"
   ]
  },
  {
   "cell_type": "code",
   "execution_count": 5,
   "metadata": {},
   "outputs": [],
   "source": [
    "for k, v in data_tok.items():\n",
    "    data_tok[k] = v.to(model_hf.device)"
   ]
  },
  {
   "cell_type": "code",
   "execution_count": 7,
   "metadata": {},
   "outputs": [],
   "source": [
    "res_generate = model_hf.generate(**data_tok,\n",
    "                   #return_dict=True,\n",
    "                   output_hidden_states=True,\n",
    "                   output_attentions=True,\n",
    "                   do_sample=False,\n",
    "                   num_beams=1)"
   ]
  },
  {
   "cell_type": "code",
   "execution_count": 8,
   "metadata": {},
   "outputs": [],
   "source": [
    "res_forward = model_hf.forward(**data_tok,\n",
    "                   return_dict=True,\n",
    "                   output_hidden_states=True,\n",
    "                   output_attentions=True)"
   ]
  },
  {
   "cell_type": "code",
   "execution_count": 29,
   "metadata": {},
   "outputs": [],
   "source": [
    "encoder = model_hf.base_model.encoder\n",
    "\n",
    "res_encoder = encoder.forward(**data_tok,\n",
    "                   return_dict=True,\n",
    "                   output_hidden_states=True,\n",
    "                   output_attentions=True)"
   ]
  },
  {
   "cell_type": "code",
   "execution_count": 21,
   "metadata": {},
   "outputs": [
    {
     "data": {
      "text/plain": [
       "odict_keys(['last_hidden_state', 'hidden_states', 'attentions'])"
      ]
     },
     "execution_count": 21,
     "metadata": {},
     "output_type": "execute_result"
    }
   ],
   "source": [
    "res_encoder.keys()"
   ]
  },
  {
   "cell_type": "code",
   "execution_count": 9,
   "metadata": {},
   "outputs": [
    {
     "name": "stdout",
     "output_type": "stream",
     "text": [
      "True\n",
      "True\n",
      "True\n",
      "True\n",
      "True\n",
      "True\n",
      "True\n"
     ]
    }
   ],
   "source": [
    "for a,b in zip(res_generate['encoder_hidden_states'], res_forward['encoder_hidden_states']):\n",
    "    assert torch.all(torch.eq(a,b)).item()\n",
    "    print(torch.all(torch.eq(a,b)).item())"
   ]
  },
  {
   "cell_type": "code",
   "execution_count": 35,
   "metadata": {},
   "outputs": [
    {
     "name": "stdout",
     "output_type": "stream",
     "text": [
      "True\n",
      "True\n",
      "True\n",
      "True\n",
      "True\n",
      "True\n",
      "True\n"
     ]
    }
   ],
   "source": [
    "for a,b in zip(res_generate['encoder_hidden_states'], res_encoder['hidden_states']):\n",
    "    assert torch.all(torch.eq(a,b)).item()\n",
    "    print(torch.all(torch.eq(a,b)).item())"
   ]
  },
  {
   "cell_type": "code",
   "execution_count": null,
   "metadata": {},
   "outputs": [],
   "source": [
    "res"
   ]
  }
 ],
 "metadata": {
  "kernelspec": {
   "display_name": "Python (da)",
   "language": "python",
   "name": "da"
  },
  "language_info": {
   "codemirror_mode": {
    "name": "ipython",
    "version": 3
   },
   "file_extension": ".py",
   "mimetype": "text/x-python",
   "name": "python",
   "nbconvert_exporter": "python",
   "pygments_lexer": "ipython3",
   "version": "3.8.5"
  }
 },
 "nbformat": 4,
 "nbformat_minor": 2
}
