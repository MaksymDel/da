{
 "cells": [
  {
   "cell_type": "code",
   "execution_count": 1,
   "metadata": {},
   "outputs": [],
   "source": [
    "%load_ext autoreload\n",
    "%autoreload 2"
   ]
  },
  {
   "cell_type": "code",
   "execution_count": 2,
   "metadata": {},
   "outputs": [],
   "source": [
    "import os\n",
    "from collections import defaultdict\n",
    "import pickle\n",
    "\n",
    "import torch\n",
    "\n",
    "os.chdir(\"..\")"
   ]
  },
  {
   "cell_type": "code",
   "execution_count": 3,
   "metadata": {},
   "outputs": [],
   "source": [
    "from da.fsmt.modeling_fsmt import FSMTForConditionalGeneration\n",
    "from da.fsmt.tokenization_fsmt import FSMTTokenizer\n",
    "from da.embed_utils import extract_sent_reps_corpora, compute_doc_reps"
   ]
  },
  {
   "cell_type": "code",
   "execution_count": 4,
   "metadata": {},
   "outputs": [],
   "source": [
    "model_name  = 'concat60'    \n",
    "hf_dir = f\"experiments/en_et_{model_name}/hf\"\n",
    "savedir = f\"experiments/en_et_{model_name}/internals-docs\"\n",
    "\n",
    "tokenizer_hf = FSMTTokenizer.from_pretrained(hf_dir)\n",
    "model_hf = FSMTForConditionalGeneration.from_pretrained(hf_dir)\n",
    "model_hf = model_hf.cuda()\n",
    "encoder_hf = model_hf.base_model.encoder\n",
    "encoder_hf.device = model_hf.device"
   ]
  },
  {
   "cell_type": "code",
   "execution_count": 5,
   "metadata": {},
   "outputs": [],
   "source": [
    "def extract_sent_reps_all_domains(split, savedir):\n",
    "    # split in 'test', 'valid', 'train'\n",
    "    \n",
    "    from collections import defaultdict\n",
    "\n",
    "    data_dict_raw = defaultdict(list)\n",
    "    doc_ids = defaultdict(list)\n",
    "\n",
    "    domain_names = [\"Europarl\", \"OpenSubtitles\", \"JRC-Acquis\", \"EMEA\"]\n",
    "    for domain_name in domain_names:\n",
    "        fn = f\"experiments/doc-indices/sp-cl-{domain_name}.en-et.docs.{split}.both\"\n",
    "        with open(fn) as f:\n",
    "            for l in f.readlines():\n",
    "                doc_ids[domain_name].append(l[:-1].split('\\t')[0])\n",
    "                data_dict_raw[domain_name].append(l[:-1].split('\\t')[1])\n",
    "    \n",
    "    BATCH_SIZE = 512\n",
    "    LAYER_ID = 4\n",
    "    \n",
    "    data_dict_encoded = extract_sent_reps_corpora(\n",
    "        data_dict_raw, \n",
    "        tokenizer_hf, \n",
    "        encoder_hf, \n",
    "        layer_id=LAYER_ID, \n",
    "        batch_size=BATCH_SIZE\n",
    "    )\n",
    "    \n",
    "    if not os.path.isdir(savedir):\n",
    "        os.mkdir(savedir)\n",
    "    \n",
    "    savefile = f\"{savedir}/sent_means_{split}.pkl\"\n",
    "    print(f\"Saving to {savefile}\")\n",
    "    with open(savefile, 'wb') as f:\n",
    "        pickle.dump(data_dict_encoded, f)\n",
    "    \n",
    "    return data_dict_encoded, doc_ids"
   ]
  },
  {
   "cell_type": "markdown",
   "metadata": {},
   "source": [
    "# Sent embeddings"
   ]
  },
  {
   "cell_type": "code",
   "execution_count": null,
   "metadata": {},
   "outputs": [
    {
     "name": "stdout",
     "output_type": "stream",
     "text": [
      "dev-cl\n",
      "Encoding Europarl data...\n",
      "0\n",
      "Encoding OpenSubtitles data...\n",
      "0\n",
      "Encoding JRC-Acquis data...\n",
      "0\n",
      "Encoding EMEA data...\n",
      "0\n",
      "Saving to experiments/en_et_concat60/internals-docs/sent_means_dev-cl.pkl\n",
      "\n",
      "test-cl\n",
      "Encoding Europarl data...\n",
      "0\n",
      "Encoding OpenSubtitles data...\n",
      "0\n",
      "Encoding JRC-Acquis data...\n",
      "0\n"
     ]
    }
   ],
   "source": [
    "%%time\n",
    "\n",
    "encoded_sent = {}\n",
    "doc_ids = {}\n",
    "\n",
    "for split in ['dev-cl', 'test-cl', 'train']:\n",
    "    print(split)\n",
    "\n",
    "    encoded_sent[split], doc_ids[split] = extract_sent_reps_all_domains(split, savedir)\n",
    "    \n",
    "    print()"
   ]
  },
  {
   "cell_type": "markdown",
   "metadata": {},
   "source": [
    "# Doc embeddings"
   ]
  },
  {
   "cell_type": "code",
   "execution_count": null,
   "metadata": {},
   "outputs": [],
   "source": [
    "encoded_doc = {}\n",
    "\n",
    "for k, v in encoded_sent.items():\n",
    "    encoded_doc[k] = compute_doc_reps(encoded_sent[k], doc_ids[k])"
   ]
  },
  {
   "cell_type": "code",
   "execution_count": null,
   "metadata": {},
   "outputs": [],
   "source": [
    "for split, v in encoded_doc.items():\n",
    "    savefile = f\"{savedir}/doc_encoded_{split}.pkl\"\n",
    "    print(f\"Saving to {savefile}\")\n",
    "    with open(savefile, 'wb') as f:\n",
    "        pickle.dump(v, f)\n",
    "    "
   ]
  }
 ],
 "metadata": {
  "kernelspec": {
   "display_name": "Python (da)",
   "language": "python",
   "name": "da"
  },
  "language_info": {
   "codemirror_mode": {
    "name": "ipython",
    "version": 3
   },
   "file_extension": ".py",
   "mimetype": "text/x-python",
   "name": "python",
   "nbconvert_exporter": "python",
   "pygments_lexer": "ipython3",
   "version": "3.8.5"
  }
 },
 "nbformat": 4,
 "nbformat_minor": 2
}
