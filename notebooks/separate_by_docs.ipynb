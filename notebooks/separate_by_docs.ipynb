{
 "cells": [
  {
   "cell_type": "code",
   "execution_count": 1,
   "metadata": {},
   "outputs": [],
   "source": [
    "fi = \"./doc-indices-paracrawl.txt\"\n",
    "savedir = \".\""
   ]
  },
  {
   "cell_type": "code",
   "execution_count": 2,
   "metadata": {},
   "outputs": [],
   "source": [
    "with open(fi) as f:\n",
    "    lines = f.readlines()\n",
    "    lines = [l.strip() for l in lines]\n",
    "    doc_ids = [l.split('\\t')[0] for l in lines]\n",
    "    sources = [l.split('\\t')[1] for l in lines]\n",
    "    targets = [l.split('\\t')[2] for l in lines]\n",
    "    del lines"
   ]
  },
  {
   "cell_type": "code",
   "execution_count": 3,
   "metadata": {},
   "outputs": [],
   "source": [
    "from collections import defaultdict"
   ]
  },
  {
   "cell_type": "code",
   "execution_count": 4,
   "metadata": {},
   "outputs": [],
   "source": [
    "doc2sents = defaultdict(list)\n",
    "for id, src, tgt in zip(doc_ids, sources, targets):\n",
    "    doc2sents[id].append((src, tgt))"
   ]
  },
  {
   "cell_type": "code",
   "execution_count": 5,
   "metadata": {},
   "outputs": [],
   "source": [
    "docs = list(doc2sents.keys())"
   ]
  },
  {
   "cell_type": "code",
   "execution_count": 6,
   "metadata": {},
   "outputs": [],
   "source": [
    "import random\n",
    "from random import sample\n",
    "\n",
    "random.seed(0)"
   ]
  },
  {
   "cell_type": "code",
   "execution_count": 7,
   "metadata": {},
   "outputs": [],
   "source": [
    "random.shuffle(docs)"
   ]
  },
  {
   "cell_type": "code",
   "execution_count": 8,
   "metadata": {},
   "outputs": [],
   "source": [
    "dev = docs[0:400]\n",
    "test = docs[400:700]\n",
    "other = docs[800:2000]\n",
    "train = docs[2000:]"
   ]
  },
  {
   "cell_type": "code",
   "execution_count": 9,
   "metadata": {},
   "outputs": [
    {
     "data": {
      "text/plain": [
       "'http://www.ecadc.ee/estonian-artist-at-moma-new-york-exhibition/'"
      ]
     },
     "execution_count": 9,
     "metadata": {},
     "output_type": "execute_result"
    }
   ],
   "source": [
    "dev[0]"
   ]
  },
  {
   "cell_type": "code",
   "execution_count": 10,
   "metadata": {},
   "outputs": [
    {
     "data": {
      "text/plain": [
       "'extremez.ru/en/tag/pirenei/'"
      ]
     },
     "execution_count": 10,
     "metadata": {},
     "output_type": "execute_result"
    }
   ],
   "source": [
    "test[0]"
   ]
  },
  {
   "cell_type": "code",
   "execution_count": 11,
   "metadata": {},
   "outputs": [],
   "source": [
    "def get_sents_docs_lists(split):\n",
    "    sents_list = []\n",
    "    docs_list = []\n",
    "    for k in split:\n",
    "        sents = doc2sents[k]\n",
    "        sents_list.extend(sents)\n",
    "        docs_list.extend([k] * len(sents))\n",
    "    \n",
    "    return docs_list, sents_list"
   ]
  },
  {
   "cell_type": "code",
   "execution_count": 12,
   "metadata": {},
   "outputs": [
    {
     "name": "stdout",
     "output_type": "stream",
     "text": [
      "dev 3064\n",
      "test 3130\n",
      "other 10273\n",
      "train 3163124\n"
     ]
    }
   ],
   "source": [
    "for name, spl in zip(['dev', 'test', 'other', 'train'], [dev, test, other, train]):\n",
    "    docs_l, sents_l = get_sents_docs_lists(spl)\n",
    "    print(name, len(docs_l))\n",
    "    with open(f\"{savedir}/{name}.txt\", 'w') as f:\n",
    "        for id, p in zip(docs_l, sents_l):\n",
    "            f.write(f\"{id}\\t{p[1]}\\t{p[0]}\\n\")"
   ]
  }
 ],
 "metadata": {
  "kernelspec": {
   "display_name": "Python (da)",
   "language": "python",
   "name": "da"
  },
  "language_info": {
   "codemirror_mode": {
    "name": "ipython",
    "version": 3
   },
   "file_extension": ".py",
   "mimetype": "text/x-python",
   "name": "python",
   "nbconvert_exporter": "python",
   "pygments_lexer": "ipython3",
   "version": "3.8.5"
  }
 },
 "nbformat": 4,
 "nbformat_minor": 2
}
